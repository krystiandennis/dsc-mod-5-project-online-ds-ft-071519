{
 "cells": [
  {
   "cell_type": "markdown",
   "metadata": {},
   "source": [
    "# Final Project Submission\n",
    "\n",
    "* Student name: Krystian Dennis\n",
    "* Student pace: Full Time\n",
    "* Scheduled project review date/time: 6 November 2019 14:00pm\n",
    "* Instructor name: Abhineet Kulkarni\n",
    "* Blog post URL: "
   ]
  },
  {
   "cell_type": "markdown",
   "metadata": {},
   "source": [
    "# Business Understanding"
   ]
  },
  {
   "cell_type": "markdown",
   "metadata": {},
   "source": [
    "With the holiday season approaching, it's important to make the best plans for air travel. We will build a model to predict whether or not a flight will be delayed during Year-End Travel Season, spanning December 21-January 2. For the purpose of this study, we will consider the period from December 21-December 31, as January 2019 data is not available. "
   ]
  },
  {
   "cell_type": "markdown",
   "metadata": {},
   "source": [
    "# Dataset \n",
    "\n",
    "The Dataset contains information on flight delays and cancellation for 2018 from the Bureau of Transportation Statistics. There are over 7 millions records for on-time flight performance for US domestic flights. \n",
    "\n",
    "The dataset contains the following columns:\n",
    "\n",
    "* FL_DATE: Date of the flight, yy/mm/dd\n",
    "* OP_CARRIER: Airline Identifier\n",
    "* OP_CARRIER_FL_NUM: Flight Number\n",
    "* ORIGIN: Starting Airport Code\n",
    "* DEST: Destination Airport Code\n",
    "* CRS_DEP_TIME: Planned Departure Time\n",
    "* DEP_TIME: Actual Departure Time\n",
    "* DEP_DELAY: Total Delay on Departure in minutes. Positive number = delay.\n",
    "* TAXI_OUT: The time duration elapsed between departure from the origin airport gate and wheels off\n",
    "* WHEELS_OFF: The time point that the aircraft's wheels leave the ground\n",
    "* WHEELS_ON: The time point that the aircraft's wheels touch on the ground\n",
    "* TAXI_IN: The time duration elapsed between wheels-on and gate arrival at the destination airport\n",
    "* CRS_ARR_TIME: Planned arrival time\n",
    "* ARR_TIME: Actual Arrival Time\n",
    "* ARR_DELAY: Total Delay on Arrival in minutes. Positive number = delay.\n",
    "* CANCELLED: Flight Cancelled (0 = not cancalled, 1 = cancelled)\n",
    "* CANCELLATION_CODE: Reason for Cancellation of flight: A - Airline/Carrier; B - Weather; C - National Air System; D - Security\n",
    "* DIVERTED: Aircraft landed on airport that out of schedule\n",
    "* CRS_ELAPSED_TIME: Planned time amount needed for the flight trip\n",
    "* ACTUAL_ELAPSED_TIME: AIR_TIME+TAXI_IN+TAXI_OUT\n",
    "* AIR_TIME: The time duration between wheels_off and wheels_on time\n",
    "* DISTANCE: Distance between two airports\n",
    "* CARRIER_DELAY: Delay caused by the airline in minutes\n",
    "* WEATHER_DELAY: Delay caused by weather\n",
    "* NAS_DELAY: Delay caused by National Airspace System including air traffic control and non-extreme weather conditions\n",
    "* SECURITY_DELAY\n",
    "* LATE_AIRCRAFT_DELAY:Delay caused by security\n",
    "* Unnamed: 27: Column of commas created while importing the CSV file"
   ]
  },
  {
   "cell_type": "markdown",
   "metadata": {},
   "source": [
    "## Import Libraries"
   ]
  },
  {
   "cell_type": "code",
   "execution_count": 1,
   "metadata": {},
   "outputs": [],
   "source": [
    "import pandas as pd\n",
    "import numpy as np\n",
    "import matplotlib.pyplot as plt\n",
    "%matplotlib inline\n",
    "import seaborn as sns\n",
    "plt.style.use('seaborn')\n",
    "\n",
    "from sklearn.preprocessing import StandardScaler\n",
    "\n",
    "from sklearn.pipeline import make_pipeline\n",
    "\n",
    "from sklearn.neighbors import KNeighborsClassifier\n",
    "from sklearn.ensemble import RandomForestClassifier\n",
    "from sklearn import svm\n",
    "\n",
    "import xgboost as xgb\n",
    "from xgboost.sklearn import XGBClassifier\n",
    "\n",
    "from sklearn.model_selection import train_test_split, GridSearchCV, cross_val_score\n",
    "\n",
    "from sklearn.metrics import confusion_matrix,classification_report\n",
    "from sklearn.metrics import roc_curve, auc\n",
    "\n",
    "from cf_matrix import make_confusion_matrix\n",
    "\n",
    "import warnings\n",
    "warnings.filterwarnings(\"ignore\")"
   ]
  },
  {
   "cell_type": "markdown",
   "metadata": {},
   "source": [
    "## Import and Explore Data"
   ]
  },
  {
   "cell_type": "code",
   "execution_count": 7,
   "metadata": {},
   "outputs": [
    {
     "data": {
      "text/html": [
       "<div>\n",
       "<style scoped>\n",
       "    .dataframe tbody tr th:only-of-type {\n",
       "        vertical-align: middle;\n",
       "    }\n",
       "\n",
       "    .dataframe tbody tr th {\n",
       "        vertical-align: top;\n",
       "    }\n",
       "\n",
       "    .dataframe thead th {\n",
       "        text-align: right;\n",
       "    }\n",
       "</style>\n",
       "<table border=\"1\" class=\"dataframe\">\n",
       "  <thead>\n",
       "    <tr style=\"text-align: right;\">\n",
       "      <th></th>\n",
       "      <th>FL_DATE</th>\n",
       "      <th>OP_CARRIER</th>\n",
       "      <th>OP_CARRIER_FL_NUM</th>\n",
       "      <th>ORIGIN</th>\n",
       "      <th>DEST</th>\n",
       "      <th>CRS_DEP_TIME</th>\n",
       "      <th>DEP_TIME</th>\n",
       "      <th>DEP_DELAY</th>\n",
       "      <th>TAXI_OUT</th>\n",
       "      <th>WHEELS_OFF</th>\n",
       "      <th>...</th>\n",
       "      <th>CRS_ELAPSED_TIME</th>\n",
       "      <th>ACTUAL_ELAPSED_TIME</th>\n",
       "      <th>AIR_TIME</th>\n",
       "      <th>DISTANCE</th>\n",
       "      <th>CARRIER_DELAY</th>\n",
       "      <th>WEATHER_DELAY</th>\n",
       "      <th>NAS_DELAY</th>\n",
       "      <th>SECURITY_DELAY</th>\n",
       "      <th>LATE_AIRCRAFT_DELAY</th>\n",
       "      <th>Unnamed: 27</th>\n",
       "    </tr>\n",
       "  </thead>\n",
       "  <tbody>\n",
       "    <tr>\n",
       "      <th>0</th>\n",
       "      <td>2018-01-01</td>\n",
       "      <td>UA</td>\n",
       "      <td>2429</td>\n",
       "      <td>EWR</td>\n",
       "      <td>DEN</td>\n",
       "      <td>1517</td>\n",
       "      <td>1512.0</td>\n",
       "      <td>-5.0</td>\n",
       "      <td>15.0</td>\n",
       "      <td>1527.0</td>\n",
       "      <td>...</td>\n",
       "      <td>268.0</td>\n",
       "      <td>250.0</td>\n",
       "      <td>225.0</td>\n",
       "      <td>1605.0</td>\n",
       "      <td>NaN</td>\n",
       "      <td>NaN</td>\n",
       "      <td>NaN</td>\n",
       "      <td>NaN</td>\n",
       "      <td>NaN</td>\n",
       "      <td>NaN</td>\n",
       "    </tr>\n",
       "    <tr>\n",
       "      <th>1</th>\n",
       "      <td>2018-01-01</td>\n",
       "      <td>UA</td>\n",
       "      <td>2427</td>\n",
       "      <td>LAS</td>\n",
       "      <td>SFO</td>\n",
       "      <td>1115</td>\n",
       "      <td>1107.0</td>\n",
       "      <td>-8.0</td>\n",
       "      <td>11.0</td>\n",
       "      <td>1118.0</td>\n",
       "      <td>...</td>\n",
       "      <td>99.0</td>\n",
       "      <td>83.0</td>\n",
       "      <td>65.0</td>\n",
       "      <td>414.0</td>\n",
       "      <td>NaN</td>\n",
       "      <td>NaN</td>\n",
       "      <td>NaN</td>\n",
       "      <td>NaN</td>\n",
       "      <td>NaN</td>\n",
       "      <td>NaN</td>\n",
       "    </tr>\n",
       "    <tr>\n",
       "      <th>2</th>\n",
       "      <td>2018-01-01</td>\n",
       "      <td>UA</td>\n",
       "      <td>2426</td>\n",
       "      <td>SNA</td>\n",
       "      <td>DEN</td>\n",
       "      <td>1335</td>\n",
       "      <td>1330.0</td>\n",
       "      <td>-5.0</td>\n",
       "      <td>15.0</td>\n",
       "      <td>1345.0</td>\n",
       "      <td>...</td>\n",
       "      <td>134.0</td>\n",
       "      <td>126.0</td>\n",
       "      <td>106.0</td>\n",
       "      <td>846.0</td>\n",
       "      <td>NaN</td>\n",
       "      <td>NaN</td>\n",
       "      <td>NaN</td>\n",
       "      <td>NaN</td>\n",
       "      <td>NaN</td>\n",
       "      <td>NaN</td>\n",
       "    </tr>\n",
       "    <tr>\n",
       "      <th>3</th>\n",
       "      <td>2018-01-01</td>\n",
       "      <td>UA</td>\n",
       "      <td>2425</td>\n",
       "      <td>RSW</td>\n",
       "      <td>ORD</td>\n",
       "      <td>1546</td>\n",
       "      <td>1552.0</td>\n",
       "      <td>6.0</td>\n",
       "      <td>19.0</td>\n",
       "      <td>1611.0</td>\n",
       "      <td>...</td>\n",
       "      <td>190.0</td>\n",
       "      <td>182.0</td>\n",
       "      <td>157.0</td>\n",
       "      <td>1120.0</td>\n",
       "      <td>NaN</td>\n",
       "      <td>NaN</td>\n",
       "      <td>NaN</td>\n",
       "      <td>NaN</td>\n",
       "      <td>NaN</td>\n",
       "      <td>NaN</td>\n",
       "    </tr>\n",
       "    <tr>\n",
       "      <th>4</th>\n",
       "      <td>2018-01-01</td>\n",
       "      <td>UA</td>\n",
       "      <td>2424</td>\n",
       "      <td>ORD</td>\n",
       "      <td>ALB</td>\n",
       "      <td>630</td>\n",
       "      <td>650.0</td>\n",
       "      <td>20.0</td>\n",
       "      <td>13.0</td>\n",
       "      <td>703.0</td>\n",
       "      <td>...</td>\n",
       "      <td>112.0</td>\n",
       "      <td>106.0</td>\n",
       "      <td>83.0</td>\n",
       "      <td>723.0</td>\n",
       "      <td>NaN</td>\n",
       "      <td>NaN</td>\n",
       "      <td>NaN</td>\n",
       "      <td>NaN</td>\n",
       "      <td>NaN</td>\n",
       "      <td>NaN</td>\n",
       "    </tr>\n",
       "  </tbody>\n",
       "</table>\n",
       "<p>5 rows × 28 columns</p>\n",
       "</div>"
      ],
      "text/plain": [
       "      FL_DATE OP_CARRIER  OP_CARRIER_FL_NUM ORIGIN DEST  CRS_DEP_TIME  \\\n",
       "0  2018-01-01         UA               2429    EWR  DEN          1517   \n",
       "1  2018-01-01         UA               2427    LAS  SFO          1115   \n",
       "2  2018-01-01         UA               2426    SNA  DEN          1335   \n",
       "3  2018-01-01         UA               2425    RSW  ORD          1546   \n",
       "4  2018-01-01         UA               2424    ORD  ALB           630   \n",
       "\n",
       "   DEP_TIME  DEP_DELAY  TAXI_OUT  WHEELS_OFF     ...       CRS_ELAPSED_TIME  \\\n",
       "0    1512.0       -5.0      15.0      1527.0     ...                  268.0   \n",
       "1    1107.0       -8.0      11.0      1118.0     ...                   99.0   \n",
       "2    1330.0       -5.0      15.0      1345.0     ...                  134.0   \n",
       "3    1552.0        6.0      19.0      1611.0     ...                  190.0   \n",
       "4     650.0       20.0      13.0       703.0     ...                  112.0   \n",
       "\n",
       "   ACTUAL_ELAPSED_TIME  AIR_TIME  DISTANCE  CARRIER_DELAY  WEATHER_DELAY  \\\n",
       "0                250.0     225.0    1605.0            NaN            NaN   \n",
       "1                 83.0      65.0     414.0            NaN            NaN   \n",
       "2                126.0     106.0     846.0            NaN            NaN   \n",
       "3                182.0     157.0    1120.0            NaN            NaN   \n",
       "4                106.0      83.0     723.0            NaN            NaN   \n",
       "\n",
       "  NAS_DELAY  SECURITY_DELAY  LATE_AIRCRAFT_DELAY  Unnamed: 27  \n",
       "0       NaN             NaN                  NaN          NaN  \n",
       "1       NaN             NaN                  NaN          NaN  \n",
       "2       NaN             NaN                  NaN          NaN  \n",
       "3       NaN             NaN                  NaN          NaN  \n",
       "4       NaN             NaN                  NaN          NaN  \n",
       "\n",
       "[5 rows x 28 columns]"
      ]
     },
     "metadata": {},
     "output_type": "display_data"
    },
    {
     "name": "stdout",
     "output_type": "stream",
     "text": [
      "<class 'pandas.core.frame.DataFrame'>\n",
      "RangeIndex: 7213446 entries, 0 to 7213445\n",
      "Data columns (total 28 columns):\n",
      "FL_DATE                object\n",
      "OP_CARRIER             object\n",
      "OP_CARRIER_FL_NUM      int64\n",
      "ORIGIN                 object\n",
      "DEST                   object\n",
      "CRS_DEP_TIME           int64\n",
      "DEP_TIME               float64\n",
      "DEP_DELAY              float64\n",
      "TAXI_OUT               float64\n",
      "WHEELS_OFF             float64\n",
      "WHEELS_ON              float64\n",
      "TAXI_IN                float64\n",
      "CRS_ARR_TIME           int64\n",
      "ARR_TIME               float64\n",
      "ARR_DELAY              float64\n",
      "CANCELLED              float64\n",
      "CANCELLATION_CODE      object\n",
      "DIVERTED               float64\n",
      "CRS_ELAPSED_TIME       float64\n",
      "ACTUAL_ELAPSED_TIME    float64\n",
      "AIR_TIME               float64\n",
      "DISTANCE               float64\n",
      "CARRIER_DELAY          float64\n",
      "WEATHER_DELAY          float64\n",
      "NAS_DELAY              float64\n",
      "SECURITY_DELAY         float64\n",
      "LATE_AIRCRAFT_DELAY    float64\n",
      "Unnamed: 27            float64\n",
      "dtypes: float64(20), int64(3), object(5)\n",
      "memory usage: 1.5+ GB\n"
     ]
    },
    {
     "data": {
      "text/plain": [
       "None"
      ]
     },
     "metadata": {},
     "output_type": "display_data"
    },
    {
     "data": {
      "text/html": [
       "<div>\n",
       "<style scoped>\n",
       "    .dataframe tbody tr th:only-of-type {\n",
       "        vertical-align: middle;\n",
       "    }\n",
       "\n",
       "    .dataframe tbody tr th {\n",
       "        vertical-align: top;\n",
       "    }\n",
       "\n",
       "    .dataframe thead th {\n",
       "        text-align: right;\n",
       "    }\n",
       "</style>\n",
       "<table border=\"1\" class=\"dataframe\">\n",
       "  <thead>\n",
       "    <tr style=\"text-align: right;\">\n",
       "      <th></th>\n",
       "      <th>OP_CARRIER_FL_NUM</th>\n",
       "      <th>CRS_DEP_TIME</th>\n",
       "      <th>DEP_TIME</th>\n",
       "      <th>DEP_DELAY</th>\n",
       "      <th>TAXI_OUT</th>\n",
       "      <th>WHEELS_OFF</th>\n",
       "      <th>WHEELS_ON</th>\n",
       "      <th>TAXI_IN</th>\n",
       "      <th>CRS_ARR_TIME</th>\n",
       "      <th>ARR_TIME</th>\n",
       "      <th>...</th>\n",
       "      <th>CRS_ELAPSED_TIME</th>\n",
       "      <th>ACTUAL_ELAPSED_TIME</th>\n",
       "      <th>AIR_TIME</th>\n",
       "      <th>DISTANCE</th>\n",
       "      <th>CARRIER_DELAY</th>\n",
       "      <th>WEATHER_DELAY</th>\n",
       "      <th>NAS_DELAY</th>\n",
       "      <th>SECURITY_DELAY</th>\n",
       "      <th>LATE_AIRCRAFT_DELAY</th>\n",
       "      <th>Unnamed: 27</th>\n",
       "    </tr>\n",
       "  </thead>\n",
       "  <tbody>\n",
       "    <tr>\n",
       "      <th>count</th>\n",
       "      <td>7213446.00</td>\n",
       "      <td>7213446.00</td>\n",
       "      <td>7101129.00</td>\n",
       "      <td>7096212.00</td>\n",
       "      <td>7097616.00</td>\n",
       "      <td>7097617.00</td>\n",
       "      <td>7094200.00</td>\n",
       "      <td>7094200.00</td>\n",
       "      <td>7213446.00</td>\n",
       "      <td>7094201.00</td>\n",
       "      <td>...</td>\n",
       "      <td>7213436.00</td>\n",
       "      <td>7079004.00</td>\n",
       "      <td>7079004.00</td>\n",
       "      <td>7213446.00</td>\n",
       "      <td>1352710.00</td>\n",
       "      <td>1352710.00</td>\n",
       "      <td>1352710.00</td>\n",
       "      <td>1352710.00</td>\n",
       "      <td>1352710.00</td>\n",
       "      <td>0.0</td>\n",
       "    </tr>\n",
       "    <tr>\n",
       "      <th>mean</th>\n",
       "      <td>2607.53</td>\n",
       "      <td>1329.69</td>\n",
       "      <td>1333.85</td>\n",
       "      <td>9.97</td>\n",
       "      <td>17.41</td>\n",
       "      <td>1357.80</td>\n",
       "      <td>1462.16</td>\n",
       "      <td>7.60</td>\n",
       "      <td>1486.34</td>\n",
       "      <td>1466.78</td>\n",
       "      <td>...</td>\n",
       "      <td>141.14</td>\n",
       "      <td>136.50</td>\n",
       "      <td>111.50</td>\n",
       "      <td>799.99</td>\n",
       "      <td>19.46</td>\n",
       "      <td>3.64</td>\n",
       "      <td>15.89</td>\n",
       "      <td>0.09</td>\n",
       "      <td>25.64</td>\n",
       "      <td>NaN</td>\n",
       "    </tr>\n",
       "    <tr>\n",
       "      <th>std</th>\n",
       "      <td>1860.12</td>\n",
       "      <td>490.93</td>\n",
       "      <td>504.51</td>\n",
       "      <td>44.83</td>\n",
       "      <td>9.92</td>\n",
       "      <td>505.97</td>\n",
       "      <td>533.47</td>\n",
       "      <td>6.06</td>\n",
       "      <td>518.31</td>\n",
       "      <td>537.71</td>\n",
       "      <td>...</td>\n",
       "      <td>73.34</td>\n",
       "      <td>73.14</td>\n",
       "      <td>71.11</td>\n",
       "      <td>598.18</td>\n",
       "      <td>58.91</td>\n",
       "      <td>30.00</td>\n",
       "      <td>35.89</td>\n",
       "      <td>3.17</td>\n",
       "      <td>49.79</td>\n",
       "      <td>NaN</td>\n",
       "    </tr>\n",
       "    <tr>\n",
       "      <th>min</th>\n",
       "      <td>1.00</td>\n",
       "      <td>1.00</td>\n",
       "      <td>1.00</td>\n",
       "      <td>-122.00</td>\n",
       "      <td>1.00</td>\n",
       "      <td>1.00</td>\n",
       "      <td>1.00</td>\n",
       "      <td>1.00</td>\n",
       "      <td>1.00</td>\n",
       "      <td>1.00</td>\n",
       "      <td>...</td>\n",
       "      <td>-99.00</td>\n",
       "      <td>14.00</td>\n",
       "      <td>7.00</td>\n",
       "      <td>31.00</td>\n",
       "      <td>0.00</td>\n",
       "      <td>0.00</td>\n",
       "      <td>0.00</td>\n",
       "      <td>0.00</td>\n",
       "      <td>0.00</td>\n",
       "      <td>NaN</td>\n",
       "    </tr>\n",
       "    <tr>\n",
       "      <th>25%</th>\n",
       "      <td>1029.00</td>\n",
       "      <td>915.00</td>\n",
       "      <td>916.00</td>\n",
       "      <td>-5.00</td>\n",
       "      <td>11.00</td>\n",
       "      <td>932.00</td>\n",
       "      <td>1044.00</td>\n",
       "      <td>4.00</td>\n",
       "      <td>1100.00</td>\n",
       "      <td>1049.00</td>\n",
       "      <td>...</td>\n",
       "      <td>88.00</td>\n",
       "      <td>83.00</td>\n",
       "      <td>60.00</td>\n",
       "      <td>363.00</td>\n",
       "      <td>0.00</td>\n",
       "      <td>0.00</td>\n",
       "      <td>0.00</td>\n",
       "      <td>0.00</td>\n",
       "      <td>0.00</td>\n",
       "      <td>NaN</td>\n",
       "    </tr>\n",
       "    <tr>\n",
       "      <th>50%</th>\n",
       "      <td>2131.00</td>\n",
       "      <td>1320.00</td>\n",
       "      <td>1326.00</td>\n",
       "      <td>-2.00</td>\n",
       "      <td>15.00</td>\n",
       "      <td>1340.00</td>\n",
       "      <td>1502.00</td>\n",
       "      <td>6.00</td>\n",
       "      <td>1515.00</td>\n",
       "      <td>1506.00</td>\n",
       "      <td>...</td>\n",
       "      <td>122.00</td>\n",
       "      <td>118.00</td>\n",
       "      <td>92.00</td>\n",
       "      <td>632.00</td>\n",
       "      <td>0.00</td>\n",
       "      <td>0.00</td>\n",
       "      <td>3.00</td>\n",
       "      <td>0.00</td>\n",
       "      <td>3.00</td>\n",
       "      <td>NaN</td>\n",
       "    </tr>\n",
       "    <tr>\n",
       "      <th>75%</th>\n",
       "      <td>4074.00</td>\n",
       "      <td>1735.00</td>\n",
       "      <td>1744.00</td>\n",
       "      <td>7.00</td>\n",
       "      <td>20.00</td>\n",
       "      <td>1759.00</td>\n",
       "      <td>1911.00</td>\n",
       "      <td>9.00</td>\n",
       "      <td>1919.00</td>\n",
       "      <td>1916.00</td>\n",
       "      <td>...</td>\n",
       "      <td>171.00</td>\n",
       "      <td>167.00</td>\n",
       "      <td>141.00</td>\n",
       "      <td>1034.00</td>\n",
       "      <td>17.00</td>\n",
       "      <td>0.00</td>\n",
       "      <td>20.00</td>\n",
       "      <td>0.00</td>\n",
       "      <td>31.00</td>\n",
       "      <td>NaN</td>\n",
       "    </tr>\n",
       "    <tr>\n",
       "      <th>max</th>\n",
       "      <td>7909.00</td>\n",
       "      <td>2359.00</td>\n",
       "      <td>2400.00</td>\n",
       "      <td>2710.00</td>\n",
       "      <td>196.00</td>\n",
       "      <td>2400.00</td>\n",
       "      <td>2400.00</td>\n",
       "      <td>259.00</td>\n",
       "      <td>2400.00</td>\n",
       "      <td>2400.00</td>\n",
       "      <td>...</td>\n",
       "      <td>704.00</td>\n",
       "      <td>757.00</td>\n",
       "      <td>696.00</td>\n",
       "      <td>4983.00</td>\n",
       "      <td>2109.00</td>\n",
       "      <td>2692.00</td>\n",
       "      <td>1848.00</td>\n",
       "      <td>987.00</td>\n",
       "      <td>2454.00</td>\n",
       "      <td>NaN</td>\n",
       "    </tr>\n",
       "  </tbody>\n",
       "</table>\n",
       "<p>8 rows × 23 columns</p>\n",
       "</div>"
      ],
      "text/plain": [
       "       OP_CARRIER_FL_NUM  CRS_DEP_TIME    DEP_TIME   DEP_DELAY    TAXI_OUT  \\\n",
       "count         7213446.00    7213446.00  7101129.00  7096212.00  7097616.00   \n",
       "mean             2607.53       1329.69     1333.85        9.97       17.41   \n",
       "std              1860.12        490.93      504.51       44.83        9.92   \n",
       "min                 1.00          1.00        1.00     -122.00        1.00   \n",
       "25%              1029.00        915.00      916.00       -5.00       11.00   \n",
       "50%              2131.00       1320.00     1326.00       -2.00       15.00   \n",
       "75%              4074.00       1735.00     1744.00        7.00       20.00   \n",
       "max              7909.00       2359.00     2400.00     2710.00      196.00   \n",
       "\n",
       "       WHEELS_OFF   WHEELS_ON     TAXI_IN  CRS_ARR_TIME    ARR_TIME  \\\n",
       "count  7097617.00  7094200.00  7094200.00    7213446.00  7094201.00   \n",
       "mean      1357.80     1462.16        7.60       1486.34     1466.78   \n",
       "std        505.97      533.47        6.06        518.31      537.71   \n",
       "min          1.00        1.00        1.00          1.00        1.00   \n",
       "25%        932.00     1044.00        4.00       1100.00     1049.00   \n",
       "50%       1340.00     1502.00        6.00       1515.00     1506.00   \n",
       "75%       1759.00     1911.00        9.00       1919.00     1916.00   \n",
       "max       2400.00     2400.00      259.00       2400.00     2400.00   \n",
       "\n",
       "          ...       CRS_ELAPSED_TIME  ACTUAL_ELAPSED_TIME    AIR_TIME  \\\n",
       "count     ...             7213436.00           7079004.00  7079004.00   \n",
       "mean      ...                 141.14               136.50      111.50   \n",
       "std       ...                  73.34                73.14       71.11   \n",
       "min       ...                 -99.00                14.00        7.00   \n",
       "25%       ...                  88.00                83.00       60.00   \n",
       "50%       ...                 122.00               118.00       92.00   \n",
       "75%       ...                 171.00               167.00      141.00   \n",
       "max       ...                 704.00               757.00      696.00   \n",
       "\n",
       "         DISTANCE  CARRIER_DELAY  WEATHER_DELAY   NAS_DELAY  SECURITY_DELAY  \\\n",
       "count  7213446.00     1352710.00     1352710.00  1352710.00      1352710.00   \n",
       "mean       799.99          19.46           3.64       15.89            0.09   \n",
       "std        598.18          58.91          30.00       35.89            3.17   \n",
       "min         31.00           0.00           0.00        0.00            0.00   \n",
       "25%        363.00           0.00           0.00        0.00            0.00   \n",
       "50%        632.00           0.00           0.00        3.00            0.00   \n",
       "75%       1034.00          17.00           0.00       20.00            0.00   \n",
       "max       4983.00        2109.00        2692.00     1848.00          987.00   \n",
       "\n",
       "       LATE_AIRCRAFT_DELAY  Unnamed: 27  \n",
       "count           1352710.00          0.0  \n",
       "mean                 25.64          NaN  \n",
       "std                  49.79          NaN  \n",
       "min                   0.00          NaN  \n",
       "25%                   0.00          NaN  \n",
       "50%                   3.00          NaN  \n",
       "75%                  31.00          NaN  \n",
       "max                2454.00          NaN  \n",
       "\n",
       "[8 rows x 23 columns]"
      ]
     },
     "metadata": {},
     "output_type": "display_data"
    }
   ],
   "source": [
    "df = pd.read_csv(\"2018.csv\")\n",
    "display(df.head())\n",
    "display(df.info())\n",
    "display(round(df.describe(),2))"
   ]
  },
  {
   "cell_type": "code",
   "execution_count": 8,
   "metadata": {},
   "outputs": [
    {
     "name": "stdout",
     "output_type": "stream",
     "text": [
      "Number of rows:  7213446\n",
      "Number of columns:  28\n"
     ]
    }
   ],
   "source": [
    "rows,cols = df.shape\n",
    "print(\"Number of rows: \", rows)\n",
    "print(\"Number of columns: \", cols)"
   ]
  },
  {
   "cell_type": "code",
   "execution_count": 9,
   "metadata": {},
   "outputs": [
    {
     "data": {
      "text/plain": [
       "FL_DATE                      0\n",
       "OP_CARRIER                   0\n",
       "OP_CARRIER_FL_NUM            0\n",
       "ORIGIN                       0\n",
       "DEST                         0\n",
       "CRS_DEP_TIME                 0\n",
       "DEP_TIME                112317\n",
       "DEP_DELAY               117234\n",
       "TAXI_OUT                115830\n",
       "WHEELS_OFF              115829\n",
       "WHEELS_ON               119246\n",
       "TAXI_IN                 119246\n",
       "CRS_ARR_TIME                 0\n",
       "ARR_TIME                119245\n",
       "ARR_DELAY               137040\n",
       "CANCELLED                    0\n",
       "CANCELLATION_CODE      7096862\n",
       "DIVERTED                     0\n",
       "CRS_ELAPSED_TIME            10\n",
       "ACTUAL_ELAPSED_TIME     134442\n",
       "AIR_TIME                134442\n",
       "DISTANCE                     0\n",
       "CARRIER_DELAY          5860736\n",
       "WEATHER_DELAY          5860736\n",
       "NAS_DELAY              5860736\n",
       "SECURITY_DELAY         5860736\n",
       "LATE_AIRCRAFT_DELAY    5860736\n",
       "Unnamed: 27            7213446\n",
       "dtype: int64"
      ]
     },
     "execution_count": 9,
     "metadata": {},
     "output_type": "execute_result"
    }
   ],
   "source": [
    "df.isnull().sum()"
   ]
  },
  {
   "cell_type": "code",
   "execution_count": 10,
   "metadata": {},
   "outputs": [
    {
     "data": {
      "text/html": [
       "<div>\n",
       "<style scoped>\n",
       "    .dataframe tbody tr th:only-of-type {\n",
       "        vertical-align: middle;\n",
       "    }\n",
       "\n",
       "    .dataframe tbody tr th {\n",
       "        vertical-align: top;\n",
       "    }\n",
       "\n",
       "    .dataframe thead th {\n",
       "        text-align: right;\n",
       "    }\n",
       "</style>\n",
       "<table border=\"1\" class=\"dataframe\">\n",
       "  <thead>\n",
       "    <tr style=\"text-align: right;\">\n",
       "      <th></th>\n",
       "      <th>FL_DATE</th>\n",
       "      <th>OP_CARRIER</th>\n",
       "      <th>ORIGIN</th>\n",
       "      <th>DEST</th>\n",
       "      <th>DEP_TIME</th>\n",
       "      <th>DEP_DELAY</th>\n",
       "      <th>ARR_TIME</th>\n",
       "      <th>ARR_DELAY</th>\n",
       "      <th>CANCELLED</th>\n",
       "      <th>DISTANCE</th>\n",
       "    </tr>\n",
       "  </thead>\n",
       "  <tbody>\n",
       "    <tr>\n",
       "      <th>0</th>\n",
       "      <td>2018-01-01</td>\n",
       "      <td>UA</td>\n",
       "      <td>EWR</td>\n",
       "      <td>DEN</td>\n",
       "      <td>1512.0</td>\n",
       "      <td>-5.0</td>\n",
       "      <td>1722.0</td>\n",
       "      <td>-23.0</td>\n",
       "      <td>0.0</td>\n",
       "      <td>1605.0</td>\n",
       "    </tr>\n",
       "    <tr>\n",
       "      <th>1</th>\n",
       "      <td>2018-01-01</td>\n",
       "      <td>UA</td>\n",
       "      <td>LAS</td>\n",
       "      <td>SFO</td>\n",
       "      <td>1107.0</td>\n",
       "      <td>-8.0</td>\n",
       "      <td>1230.0</td>\n",
       "      <td>-24.0</td>\n",
       "      <td>0.0</td>\n",
       "      <td>414.0</td>\n",
       "    </tr>\n",
       "    <tr>\n",
       "      <th>2</th>\n",
       "      <td>2018-01-01</td>\n",
       "      <td>UA</td>\n",
       "      <td>SNA</td>\n",
       "      <td>DEN</td>\n",
       "      <td>1330.0</td>\n",
       "      <td>-5.0</td>\n",
       "      <td>1636.0</td>\n",
       "      <td>-13.0</td>\n",
       "      <td>0.0</td>\n",
       "      <td>846.0</td>\n",
       "    </tr>\n",
       "    <tr>\n",
       "      <th>3</th>\n",
       "      <td>2018-01-01</td>\n",
       "      <td>UA</td>\n",
       "      <td>RSW</td>\n",
       "      <td>ORD</td>\n",
       "      <td>1552.0</td>\n",
       "      <td>6.0</td>\n",
       "      <td>1754.0</td>\n",
       "      <td>-2.0</td>\n",
       "      <td>0.0</td>\n",
       "      <td>1120.0</td>\n",
       "    </tr>\n",
       "    <tr>\n",
       "      <th>4</th>\n",
       "      <td>2018-01-01</td>\n",
       "      <td>UA</td>\n",
       "      <td>ORD</td>\n",
       "      <td>ALB</td>\n",
       "      <td>650.0</td>\n",
       "      <td>20.0</td>\n",
       "      <td>936.0</td>\n",
       "      <td>14.0</td>\n",
       "      <td>0.0</td>\n",
       "      <td>723.0</td>\n",
       "    </tr>\n",
       "  </tbody>\n",
       "</table>\n",
       "</div>"
      ],
      "text/plain": [
       "      FL_DATE OP_CARRIER ORIGIN DEST  DEP_TIME  DEP_DELAY  ARR_TIME  \\\n",
       "0  2018-01-01         UA    EWR  DEN    1512.0       -5.0    1722.0   \n",
       "1  2018-01-01         UA    LAS  SFO    1107.0       -8.0    1230.0   \n",
       "2  2018-01-01         UA    SNA  DEN    1330.0       -5.0    1636.0   \n",
       "3  2018-01-01         UA    RSW  ORD    1552.0        6.0    1754.0   \n",
       "4  2018-01-01         UA    ORD  ALB     650.0       20.0     936.0   \n",
       "\n",
       "   ARR_DELAY  CANCELLED  DISTANCE  \n",
       "0      -23.0        0.0    1605.0  \n",
       "1      -24.0        0.0     414.0  \n",
       "2      -13.0        0.0     846.0  \n",
       "3       -2.0        0.0    1120.0  \n",
       "4       14.0        0.0     723.0  "
      ]
     },
     "execution_count": 10,
     "metadata": {},
     "output_type": "execute_result"
    }
   ],
   "source": [
    "#remove columns that will not be used for analysis\n",
    "df.drop(['OP_CARRIER_FL_NUM','CRS_DEP_TIME','TAXI_OUT','WHEELS_OFF',\n",
    "         'WHEELS_ON','TAXI_IN','CRS_ARR_TIME','CANCELLATION_CODE',\n",
    "         'CARRIER_DELAY','WEATHER_DELAY','NAS_DELAY','SECURITY_DELAY','LATE_AIRCRAFT_DELAY',\n",
    "         'DIVERTED','CRS_ELAPSED_TIME','ACTUAL_ELAPSED_TIME','AIR_TIME',\n",
    "         'Unnamed: 27'], axis =1, inplace =True)\n",
    "df.head()"
   ]
  },
  {
   "cell_type": "code",
   "execution_count": 11,
   "metadata": {},
   "outputs": [
    {
     "data": {
      "text/plain": [
       "FL_DATE            0\n",
       "OP_CARRIER         0\n",
       "ORIGIN             0\n",
       "DEST               0\n",
       "DEP_TIME      112317\n",
       "DEP_DELAY     117234\n",
       "ARR_TIME      119245\n",
       "ARR_DELAY     137040\n",
       "CANCELLED          0\n",
       "DISTANCE           0\n",
       "dtype: int64"
      ]
     },
     "execution_count": 11,
     "metadata": {},
     "output_type": "execute_result"
    }
   ],
   "source": [
    "df.isnull().sum()"
   ]
  },
  {
   "cell_type": "markdown",
   "metadata": {},
   "source": [
    "## Dropping Missing Values"
   ]
  },
  {
   "cell_type": "code",
   "execution_count": 12,
   "metadata": {},
   "outputs": [
    {
     "data": {
      "text/html": [
       "<div>\n",
       "<style scoped>\n",
       "    .dataframe tbody tr th:only-of-type {\n",
       "        vertical-align: middle;\n",
       "    }\n",
       "\n",
       "    .dataframe tbody tr th {\n",
       "        vertical-align: top;\n",
       "    }\n",
       "\n",
       "    .dataframe thead th {\n",
       "        text-align: right;\n",
       "    }\n",
       "</style>\n",
       "<table border=\"1\" class=\"dataframe\">\n",
       "  <thead>\n",
       "    <tr style=\"text-align: right;\">\n",
       "      <th></th>\n",
       "      <th>FL_DATE</th>\n",
       "      <th>OP_CARRIER</th>\n",
       "      <th>ORIGIN</th>\n",
       "      <th>DEST</th>\n",
       "      <th>DEP_TIME</th>\n",
       "      <th>DEP_DELAY</th>\n",
       "      <th>ARR_TIME</th>\n",
       "      <th>ARR_DELAY</th>\n",
       "      <th>CANCELLED</th>\n",
       "      <th>DISTANCE</th>\n",
       "    </tr>\n",
       "  </thead>\n",
       "  <tbody>\n",
       "    <tr>\n",
       "      <th>0</th>\n",
       "      <td>2018-01-01</td>\n",
       "      <td>UA</td>\n",
       "      <td>EWR</td>\n",
       "      <td>DEN</td>\n",
       "      <td>1512.0</td>\n",
       "      <td>-5.0</td>\n",
       "      <td>1722.0</td>\n",
       "      <td>-23.0</td>\n",
       "      <td>0.0</td>\n",
       "      <td>1605.0</td>\n",
       "    </tr>\n",
       "    <tr>\n",
       "      <th>1</th>\n",
       "      <td>2018-01-01</td>\n",
       "      <td>UA</td>\n",
       "      <td>LAS</td>\n",
       "      <td>SFO</td>\n",
       "      <td>1107.0</td>\n",
       "      <td>-8.0</td>\n",
       "      <td>1230.0</td>\n",
       "      <td>-24.0</td>\n",
       "      <td>0.0</td>\n",
       "      <td>414.0</td>\n",
       "    </tr>\n",
       "    <tr>\n",
       "      <th>2</th>\n",
       "      <td>2018-01-01</td>\n",
       "      <td>UA</td>\n",
       "      <td>SNA</td>\n",
       "      <td>DEN</td>\n",
       "      <td>1330.0</td>\n",
       "      <td>-5.0</td>\n",
       "      <td>1636.0</td>\n",
       "      <td>-13.0</td>\n",
       "      <td>0.0</td>\n",
       "      <td>846.0</td>\n",
       "    </tr>\n",
       "    <tr>\n",
       "      <th>3</th>\n",
       "      <td>2018-01-01</td>\n",
       "      <td>UA</td>\n",
       "      <td>RSW</td>\n",
       "      <td>ORD</td>\n",
       "      <td>1552.0</td>\n",
       "      <td>6.0</td>\n",
       "      <td>1754.0</td>\n",
       "      <td>-2.0</td>\n",
       "      <td>0.0</td>\n",
       "      <td>1120.0</td>\n",
       "    </tr>\n",
       "    <tr>\n",
       "      <th>4</th>\n",
       "      <td>2018-01-01</td>\n",
       "      <td>UA</td>\n",
       "      <td>ORD</td>\n",
       "      <td>ALB</td>\n",
       "      <td>650.0</td>\n",
       "      <td>20.0</td>\n",
       "      <td>936.0</td>\n",
       "      <td>14.0</td>\n",
       "      <td>0.0</td>\n",
       "      <td>723.0</td>\n",
       "    </tr>\n",
       "  </tbody>\n",
       "</table>\n",
       "</div>"
      ],
      "text/plain": [
       "      FL_DATE OP_CARRIER ORIGIN DEST  DEP_TIME  DEP_DELAY  ARR_TIME  \\\n",
       "0  2018-01-01         UA    EWR  DEN    1512.0       -5.0    1722.0   \n",
       "1  2018-01-01         UA    LAS  SFO    1107.0       -8.0    1230.0   \n",
       "2  2018-01-01         UA    SNA  DEN    1330.0       -5.0    1636.0   \n",
       "3  2018-01-01         UA    RSW  ORD    1552.0        6.0    1754.0   \n",
       "4  2018-01-01         UA    ORD  ALB     650.0       20.0     936.0   \n",
       "\n",
       "   ARR_DELAY  CANCELLED  DISTANCE  \n",
       "0      -23.0        0.0    1605.0  \n",
       "1      -24.0        0.0     414.0  \n",
       "2      -13.0        0.0     846.0  \n",
       "3       -2.0        0.0    1120.0  \n",
       "4       14.0        0.0     723.0  "
      ]
     },
     "execution_count": 12,
     "metadata": {},
     "output_type": "execute_result"
    }
   ],
   "source": [
    "# Dropping missing records\n",
    "df.dropna(axis = 0, inplace = True)\n",
    "df.head()"
   ]
  },
  {
   "cell_type": "code",
   "execution_count": 13,
   "metadata": {},
   "outputs": [
    {
     "data": {
      "text/plain": [
       "FL_DATE       0\n",
       "OP_CARRIER    0\n",
       "ORIGIN        0\n",
       "DEST          0\n",
       "DEP_TIME      0\n",
       "DEP_DELAY     0\n",
       "ARR_TIME      0\n",
       "ARR_DELAY     0\n",
       "CANCELLED     0\n",
       "DISTANCE      0\n",
       "dtype: int64"
      ]
     },
     "execution_count": 13,
     "metadata": {},
     "output_type": "execute_result"
    }
   ],
   "source": [
    "df.isnull().sum()"
   ]
  },
  {
   "cell_type": "code",
   "execution_count": 14,
   "metadata": {},
   "outputs": [],
   "source": [
    "#remove cancelled flights \n",
    "df = df[(df['CANCELLED'] == 0)]"
   ]
  },
  {
   "cell_type": "code",
   "execution_count": 15,
   "metadata": {},
   "outputs": [],
   "source": [
    "#rename IATA Codes for airlines using full airline names\n",
    "df['OP_CARRIER'].replace({\n",
    "    'UA':'United Airlines',\n",
    "    'AS':'Alaska Airlines',\n",
    "    '9E':'Endeavor Air',\n",
    "    'B6':'JetBlue Airways',\n",
    "    'EV':'ExpressJet',\n",
    "    'F9':'Frontier Airlines',\n",
    "    'G4':'Allegiant Air',\n",
    "    'HA':'Hawaiian Airlines',\n",
    "    'MQ':'Envoy Air',\n",
    "    'NK':'Spirit Airlines',\n",
    "    'OH':'PSA Airlines',\n",
    "    'OO':'SkyWest Airlines',\n",
    "    'VX':'Virgin America',\n",
    "    'WN':'Southwest Airlines',\n",
    "    'YV':'Mesa Airline',\n",
    "    'YX':'Republic Airways',\n",
    "    'AA':'American Airlines',\n",
    "    'DL':'Delta Airlines'\n",
    "},inplace=True)"
   ]
  },
  {
   "cell_type": "code",
   "execution_count": 16,
   "metadata": {},
   "outputs": [],
   "source": [
    "df.rename(columns ={'OP_CARRIER':'AIRLINE'},inplace=True)"
   ]
  },
  {
   "cell_type": "code",
   "execution_count": 17,
   "metadata": {},
   "outputs": [
    {
     "data": {
      "image/png": "[encoded data removed]",
      "text/plain": [
       "<Figure size 720x864 with 1 Axes>"
      ]
     },
     "metadata": {},
     "output_type": "display_data"
    }
   ],
   "source": [
    "sns.set(style='whitegrid')\n",
    "\n",
    "fig_dim = (10,12)\n",
    "f, ax = plt.subplots(figsize=fig_dim)\n",
    "sns.despine(bottom=True, left=True)\n",
    "\n",
    "sns.stripplot(x='ARR_DELAY', y='AIRLINE',\n",
    "              data=df, dodge=True, jitter=True)\n",
    "plt.show()"
   ]
  },
  {
   "cell_type": "code",
   "execution_count": 18,
   "metadata": {},
   "outputs": [
    {
     "data": {
      "text/plain": [
       "array(['United Airlines', 'American Airlines', 'Delta Airlines'],\n",
       "      dtype=object)"
      ]
     },
     "execution_count": 18,
     "metadata": {},
     "output_type": "execute_result"
    }
   ],
   "source": [
    "#subset data: Top 3 US Airlines only by the International Air Transport Association (IATA) revenue passenger-kilometers.\n",
    "airlines = ['American Airlines','Delta Airlines','United Airlines']\n",
    "\n",
    "df = df[df['AIRLINE'].isin(airlines)]\n",
    "df['AIRLINE'].unique()"
   ]
  },
  {
   "cell_type": "code",
   "execution_count": 19,
   "metadata": {},
   "outputs": [
    {
     "data": {
      "text/plain": [
       "(2458279, 10)"
      ]
     },
     "execution_count": 19,
     "metadata": {},
     "output_type": "execute_result"
    }
   ],
   "source": [
    "df.shape"
   ]
  },
  {
   "cell_type": "code",
   "execution_count": 20,
   "metadata": {},
   "outputs": [],
   "source": [
    "#to datetime. set index as FL_DATE\n",
    "df['FL_DATE'] = pd.to_datetime(df['FL_DATE'],infer_datetime_format=True)\n",
    "# Month variable\n",
    "df['FL_DATE_MONTH'] = pd.to_datetime(df['FL_DATE']).dt.month\n",
    "# Weekday variable\n",
    "df['FL_DATE_DAY'] = pd.to_datetime(df['FL_DATE']).dt.weekday_name\n",
    "df.set_index('FL_DATE', inplace =True)"
   ]
  },
  {
   "cell_type": "code",
   "execution_count": 21,
   "metadata": {},
   "outputs": [
    {
     "data": {
      "image/png": "[encoded data removed]",
      "text/plain": [
       "<Figure size 1800x864 with 2 Axes>"
      ]
     },
     "metadata": {},
     "output_type": "display_data"
    }
   ],
   "source": [
    "# Arrival and departure delays by month of the year\n",
    "plt.figure(figsize=(25, 12)).subplots_adjust(hspace = 0.5)\n",
    "\n",
    "plt.subplot(2, 2 ,1)\n",
    "df.groupby('FL_DATE_MONTH').ARR_DELAY.sum().plot.bar().set_title('ARRIVAL delays by month')\n",
    "plt.title('ARRIVAL delays by month', fontsize=16)\n",
    "plt.ylabel('Hours', fontsize=14)\n",
    "plt.xlabel('Month of the year', fontsize=14)\n",
    "\n",
    "plt.subplot(2, 2 ,2)\n",
    "df.groupby('FL_DATE_MONTH').DEP_DELAY.sum().plot.bar()\n",
    "plt.title('DEPARTURE delays by month', fontsize=16)\n",
    "plt.ylabel('Hours', fontsize=14)\n",
    "plt.xlabel('Month of the year', fontsize=14)\n",
    "\n",
    "plt.show()"
   ]
  },
  {
   "cell_type": "code",
   "execution_count": 22,
   "metadata": {},
   "outputs": [
    {
     "data": {
      "image/png": "[encoded data removed]",
      "text/plain": [
       "<Figure size 360x360 with 1 Axes>"
      ]
     },
     "metadata": {},
     "output_type": "display_data"
    }
   ],
   "source": [
    "monthly_delay = df.groupby(['FL_DATE_MONTH'], as_index=False).agg({'DEP_DELAY': 'mean'})\n",
    "monthly_delay['DEP_DELAY']=np.round(monthly_delay['DEP_DELAY'],0)\n",
    "sns.catplot(x='FL_DATE_MONTH', y='DEP_DELAY',data=monthly_delay, kind='bar')\n",
    "plt.title(\"Monthly Average Departure Delay\") \n",
    "plt.plot()\n",
    "plt.show()"
   ]
  },
  {
   "cell_type": "code",
   "execution_count": 23,
   "metadata": {},
   "outputs": [
    {
     "data": {
      "image/png": "[encoded data removed]",
      "text/plain": [
       "<Figure size 360x360 with 1 Axes>"
      ]
     },
     "metadata": {},
     "output_type": "display_data"
    }
   ],
   "source": [
    "monthly_arr_delay = df.groupby(['FL_DATE_MONTH'], as_index=False).agg({'ARR_DELAY': 'mean'})\n",
    "monthly_arr_delay['ARR_DELAY']=np.round(monthly_arr_delay['ARR_DELAY'],0)\n",
    "sns.catplot(x='FL_DATE_MONTH', y='ARR_DELAY',data=monthly_arr_delay, kind='bar')\n",
    "plt.title(\"Monthly Average Arrival Delay\") \n",
    "plt.plot()\n",
    "plt.show()"
   ]
  },
  {
   "cell_type": "code",
   "execution_count": 24,
   "metadata": {},
   "outputs": [
    {
     "data": {
      "image/png": "[encoded data removed]",
      "text/plain": [
       "<Figure size 720x504 with 1 Axes>"
      ]
     },
     "metadata": {},
     "output_type": "display_data"
    }
   ],
   "source": [
    "#arrival delay\n",
    "delay_type = lambda x:((0,1)[x > 5],2)[x > 45]\n",
    "df['DELAY_LEVEL'] = df['ARR_DELAY'].apply(delay_type)\n",
    "\n",
    "fig = plt.figure(1, figsize=(10,7))\n",
    "ax = sns.countplot(y=\"AIRLINE\", hue='DELAY_LEVEL', data=df)\n",
    "\n",
    "plt.setp(ax.get_xticklabels(), fontsize=12, weight = 'normal', rotation = 0);\n",
    "plt.setp(ax.get_yticklabels(), fontsize=12, weight = 'bold', rotation = 0);\n",
    "ax.yaxis.label.set_visible(False)\n",
    "plt.xlabel('Flight count', fontsize=16, weight = 'bold', labelpad=10)\n",
    "plt.title('Arrival Delays by Airline')\n",
    "\n",
    "L = plt.legend()\n",
    "L.get_texts()[0].set_text('on time (t < 5 min)')\n",
    "L.get_texts()[1].set_text('small delay (5 < t < 45 min)')\n",
    "L.get_texts()[2].set_text('large delay (t > 45 min)')\n",
    "plt.show()"
   ]
  },
  {
   "cell_type": "code",
   "execution_count": 25,
   "metadata": {},
   "outputs": [
    {
     "data": {
      "image/png": "[encoded data removed]",
      "text/plain": [
       "<Figure size 1440x432 with 1 Axes>"
      ]
     },
     "metadata": {},
     "output_type": "display_data"
    }
   ],
   "source": [
    "# Delays by airlines\n",
    "plt.figure(figsize=(20, 6))\n",
    "df.groupby('AIRLINE')['ARR_DELAY'].sum().sort_values(ascending=False).plot.bar()\n",
    "plt.title('Arrival Delays by Airline (Total Hours)\\n', fontsize=16)\n",
    "plt.xlabel('\\nAirline', fontsize=14)\n",
    "plt.ylabel('Hours\\n', fontsize=14)\n",
    "plt.show()"
   ]
  },
  {
   "cell_type": "code",
   "execution_count": 26,
   "metadata": {},
   "outputs": [
    {
     "data": {
      "image/png": "[encoded data removed]",
      "text/plain": [
       "<Figure size 1440x432 with 1 Axes>"
      ]
     },
     "metadata": {},
     "output_type": "display_data"
    }
   ],
   "source": [
    "# Delays by airlines\n",
    "plt.figure(figsize=(20, 6))\n",
    "df.groupby('AIRLINE')['ARR_DELAY'].mean().sort_values(ascending=False).plot.bar()\n",
    "plt.title('Average Arrival Delays by Airline\\n', fontsize=16)\n",
    "plt.xlabel('\\nAirline', fontsize=14)\n",
    "plt.ylabel('Hours\\n', fontsize=14)\n",
    "plt.show()"
   ]
  },
  {
   "cell_type": "code",
   "execution_count": 27,
   "metadata": {},
   "outputs": [
    {
     "data": {
      "text/html": [
       "<div>\n",
       "<style scoped>\n",
       "    .dataframe tbody tr th:only-of-type {\n",
       "        vertical-align: middle;\n",
       "    }\n",
       "\n",
       "    .dataframe tbody tr th {\n",
       "        vertical-align: top;\n",
       "    }\n",
       "\n",
       "    .dataframe thead th {\n",
       "        text-align: right;\n",
       "    }\n",
       "</style>\n",
       "<table border=\"1\" class=\"dataframe\">\n",
       "  <thead>\n",
       "    <tr style=\"text-align: right;\">\n",
       "      <th></th>\n",
       "      <th>AIRLINE</th>\n",
       "      <th>ORIGIN</th>\n",
       "      <th>DEST</th>\n",
       "      <th>DEP_TIME</th>\n",
       "      <th>DEP_DELAY</th>\n",
       "      <th>ARR_TIME</th>\n",
       "      <th>ARR_DELAY</th>\n",
       "      <th>CANCELLED</th>\n",
       "      <th>DISTANCE</th>\n",
       "      <th>FL_DATE_MONTH</th>\n",
       "      <th>FL_DATE_DAY</th>\n",
       "      <th>DELAY_LEVEL</th>\n",
       "      <th>TIME_OF_DAY_DEP</th>\n",
       "      <th>TIME_OF_DAY_ARR</th>\n",
       "    </tr>\n",
       "    <tr>\n",
       "      <th>FL_DATE</th>\n",
       "      <th></th>\n",
       "      <th></th>\n",
       "      <th></th>\n",
       "      <th></th>\n",
       "      <th></th>\n",
       "      <th></th>\n",
       "      <th></th>\n",
       "      <th></th>\n",
       "      <th></th>\n",
       "      <th></th>\n",
       "      <th></th>\n",
       "      <th></th>\n",
       "      <th></th>\n",
       "      <th></th>\n",
       "    </tr>\n",
       "  </thead>\n",
       "  <tbody>\n",
       "    <tr>\n",
       "      <th>2018-01-01</th>\n",
       "      <td>United Airlines</td>\n",
       "      <td>EWR</td>\n",
       "      <td>DEN</td>\n",
       "      <td>1512.0</td>\n",
       "      <td>-5.0</td>\n",
       "      <td>1722.0</td>\n",
       "      <td>-23.0</td>\n",
       "      <td>0.0</td>\n",
       "      <td>1605.0</td>\n",
       "      <td>1</td>\n",
       "      <td>Monday</td>\n",
       "      <td>0</td>\n",
       "      <td>Afternoon</td>\n",
       "      <td>Evening</td>\n",
       "    </tr>\n",
       "    <tr>\n",
       "      <th>2018-01-01</th>\n",
       "      <td>United Airlines</td>\n",
       "      <td>LAS</td>\n",
       "      <td>SFO</td>\n",
       "      <td>1107.0</td>\n",
       "      <td>-8.0</td>\n",
       "      <td>1230.0</td>\n",
       "      <td>-24.0</td>\n",
       "      <td>0.0</td>\n",
       "      <td>414.0</td>\n",
       "      <td>1</td>\n",
       "      <td>Monday</td>\n",
       "      <td>0</td>\n",
       "      <td>Morning</td>\n",
       "      <td>Afternoon</td>\n",
       "    </tr>\n",
       "    <tr>\n",
       "      <th>2018-01-01</th>\n",
       "      <td>United Airlines</td>\n",
       "      <td>SNA</td>\n",
       "      <td>DEN</td>\n",
       "      <td>1330.0</td>\n",
       "      <td>-5.0</td>\n",
       "      <td>1636.0</td>\n",
       "      <td>-13.0</td>\n",
       "      <td>0.0</td>\n",
       "      <td>846.0</td>\n",
       "      <td>1</td>\n",
       "      <td>Monday</td>\n",
       "      <td>0</td>\n",
       "      <td>Afternoon</td>\n",
       "      <td>Evening</td>\n",
       "    </tr>\n",
       "    <tr>\n",
       "      <th>2018-01-01</th>\n",
       "      <td>United Airlines</td>\n",
       "      <td>RSW</td>\n",
       "      <td>ORD</td>\n",
       "      <td>1552.0</td>\n",
       "      <td>6.0</td>\n",
       "      <td>1754.0</td>\n",
       "      <td>-2.0</td>\n",
       "      <td>0.0</td>\n",
       "      <td>1120.0</td>\n",
       "      <td>1</td>\n",
       "      <td>Monday</td>\n",
       "      <td>0</td>\n",
       "      <td>Afternoon</td>\n",
       "      <td>Evening</td>\n",
       "    </tr>\n",
       "    <tr>\n",
       "      <th>2018-01-01</th>\n",
       "      <td>United Airlines</td>\n",
       "      <td>ORD</td>\n",
       "      <td>ALB</td>\n",
       "      <td>650.0</td>\n",
       "      <td>20.0</td>\n",
       "      <td>936.0</td>\n",
       "      <td>14.0</td>\n",
       "      <td>0.0</td>\n",
       "      <td>723.0</td>\n",
       "      <td>1</td>\n",
       "      <td>Monday</td>\n",
       "      <td>1</td>\n",
       "      <td>Morning</td>\n",
       "      <td>Morning</td>\n",
       "    </tr>\n",
       "  </tbody>\n",
       "</table>\n",
       "</div>"
      ],
      "text/plain": [
       "                    AIRLINE ORIGIN DEST  DEP_TIME  DEP_DELAY  ARR_TIME  \\\n",
       "FL_DATE                                                                  \n",
       "2018-01-01  United Airlines    EWR  DEN    1512.0       -5.0    1722.0   \n",
       "2018-01-01  United Airlines    LAS  SFO    1107.0       -8.0    1230.0   \n",
       "2018-01-01  United Airlines    SNA  DEN    1330.0       -5.0    1636.0   \n",
       "2018-01-01  United Airlines    RSW  ORD    1552.0        6.0    1754.0   \n",
       "2018-01-01  United Airlines    ORD  ALB     650.0       20.0     936.0   \n",
       "\n",
       "            ARR_DELAY  CANCELLED  DISTANCE  FL_DATE_MONTH FL_DATE_DAY  \\\n",
       "FL_DATE                                                                 \n",
       "2018-01-01      -23.0        0.0    1605.0              1      Monday   \n",
       "2018-01-01      -24.0        0.0     414.0              1      Monday   \n",
       "2018-01-01      -13.0        0.0     846.0              1      Monday   \n",
       "2018-01-01       -2.0        0.0    1120.0              1      Monday   \n",
       "2018-01-01       14.0        0.0     723.0              1      Monday   \n",
       "\n",
       "            DELAY_LEVEL TIME_OF_DAY_DEP TIME_OF_DAY_ARR  \n",
       "FL_DATE                                                  \n",
       "2018-01-01            0       Afternoon         Evening  \n",
       "2018-01-01            0         Morning       Afternoon  \n",
       "2018-01-01            0       Afternoon         Evening  \n",
       "2018-01-01            0       Afternoon         Evening  \n",
       "2018-01-01            1         Morning         Morning  "
      ]
     },
     "execution_count": 27,
     "metadata": {},
     "output_type": "execute_result"
    }
   ],
   "source": [
    "#bin ARR_TIME amd DEP_TIME\n",
    "hour_bins = [-2100,500,1200,1600,2100]\n",
    "bin_names = ['Red Eye','Morning','Afternoon','Evening']\n",
    "df['TIME_OF_DAY_DEP'] = pd.cut(df['DEP_TIME'],bins=hour_bins, labels=bin_names)\n",
    "df['TIME_OF_DAY_ARR'] = pd.cut(df['ARR_TIME'],bins=hour_bins, labels=bin_names)\n",
    "df.head()"
   ]
  },
  {
   "cell_type": "code",
   "execution_count": 28,
   "metadata": {},
   "outputs": [
    {
     "data": {
      "text/html": [
       "<div>\n",
       "<style scoped>\n",
       "    .dataframe tbody tr th:only-of-type {\n",
       "        vertical-align: middle;\n",
       "    }\n",
       "\n",
       "    .dataframe tbody tr th {\n",
       "        vertical-align: top;\n",
       "    }\n",
       "\n",
       "    .dataframe thead th {\n",
       "        text-align: right;\n",
       "    }\n",
       "</style>\n",
       "<table border=\"1\" class=\"dataframe\">\n",
       "  <thead>\n",
       "    <tr style=\"text-align: right;\">\n",
       "      <th></th>\n",
       "      <th>AIRLINE</th>\n",
       "      <th>ORIGIN</th>\n",
       "      <th>DEST</th>\n",
       "      <th>DEP_TIME</th>\n",
       "      <th>DEP_DELAY</th>\n",
       "      <th>ARR_TIME</th>\n",
       "      <th>ARR_DELAY</th>\n",
       "      <th>CANCELLED</th>\n",
       "      <th>DISTANCE</th>\n",
       "      <th>FL_DATE_MONTH</th>\n",
       "      <th>FL_DATE_DAY</th>\n",
       "      <th>DELAY_LEVEL</th>\n",
       "      <th>TIME_OF_DAY_DEP</th>\n",
       "      <th>TIME_OF_DAY_ARR</th>\n",
       "    </tr>\n",
       "    <tr>\n",
       "      <th>FL_DATE</th>\n",
       "      <th></th>\n",
       "      <th></th>\n",
       "      <th></th>\n",
       "      <th></th>\n",
       "      <th></th>\n",
       "      <th></th>\n",
       "      <th></th>\n",
       "      <th></th>\n",
       "      <th></th>\n",
       "      <th></th>\n",
       "      <th></th>\n",
       "      <th></th>\n",
       "      <th></th>\n",
       "      <th></th>\n",
       "    </tr>\n",
       "  </thead>\n",
       "  <tbody>\n",
       "    <tr>\n",
       "      <th>2018-12-21</th>\n",
       "      <td>Delta Airlines</td>\n",
       "      <td>SLC</td>\n",
       "      <td>LAX</td>\n",
       "      <td>614.0</td>\n",
       "      <td>0.0</td>\n",
       "      <td>714.0</td>\n",
       "      <td>-4.0</td>\n",
       "      <td>0.0</td>\n",
       "      <td>590.0</td>\n",
       "      <td>12</td>\n",
       "      <td>Friday</td>\n",
       "      <td>0</td>\n",
       "      <td>Morning</td>\n",
       "      <td>Morning</td>\n",
       "    </tr>\n",
       "    <tr>\n",
       "      <th>2018-12-21</th>\n",
       "      <td>Delta Airlines</td>\n",
       "      <td>TPA</td>\n",
       "      <td>ATL</td>\n",
       "      <td>1448.0</td>\n",
       "      <td>-2.0</td>\n",
       "      <td>1640.0</td>\n",
       "      <td>13.0</td>\n",
       "      <td>0.0</td>\n",
       "      <td>406.0</td>\n",
       "      <td>12</td>\n",
       "      <td>Friday</td>\n",
       "      <td>1</td>\n",
       "      <td>Afternoon</td>\n",
       "      <td>Evening</td>\n",
       "    </tr>\n",
       "    <tr>\n",
       "      <th>2018-12-21</th>\n",
       "      <td>Delta Airlines</td>\n",
       "      <td>ATL</td>\n",
       "      <td>TPA</td>\n",
       "      <td>1846.0</td>\n",
       "      <td>9.0</td>\n",
       "      <td>2000.0</td>\n",
       "      <td>-5.0</td>\n",
       "      <td>0.0</td>\n",
       "      <td>406.0</td>\n",
       "      <td>12</td>\n",
       "      <td>Friday</td>\n",
       "      <td>0</td>\n",
       "      <td>Evening</td>\n",
       "      <td>Evening</td>\n",
       "    </tr>\n",
       "    <tr>\n",
       "      <th>2018-12-21</th>\n",
       "      <td>Delta Airlines</td>\n",
       "      <td>ATL</td>\n",
       "      <td>DFW</td>\n",
       "      <td>1831.0</td>\n",
       "      <td>2.0</td>\n",
       "      <td>1955.0</td>\n",
       "      <td>-8.0</td>\n",
       "      <td>0.0</td>\n",
       "      <td>731.0</td>\n",
       "      <td>12</td>\n",
       "      <td>Friday</td>\n",
       "      <td>0</td>\n",
       "      <td>Evening</td>\n",
       "      <td>Evening</td>\n",
       "    </tr>\n",
       "    <tr>\n",
       "      <th>2018-12-21</th>\n",
       "      <td>Delta Airlines</td>\n",
       "      <td>DFW</td>\n",
       "      <td>ATL</td>\n",
       "      <td>1724.0</td>\n",
       "      <td>-1.0</td>\n",
       "      <td>2032.0</td>\n",
       "      <td>2.0</td>\n",
       "      <td>0.0</td>\n",
       "      <td>731.0</td>\n",
       "      <td>12</td>\n",
       "      <td>Friday</td>\n",
       "      <td>0</td>\n",
       "      <td>Evening</td>\n",
       "      <td>Evening</td>\n",
       "    </tr>\n",
       "  </tbody>\n",
       "</table>\n",
       "</div>"
      ],
      "text/plain": [
       "                   AIRLINE ORIGIN DEST  DEP_TIME  DEP_DELAY  ARR_TIME  \\\n",
       "FL_DATE                                                                 \n",
       "2018-12-21  Delta Airlines    SLC  LAX     614.0        0.0     714.0   \n",
       "2018-12-21  Delta Airlines    TPA  ATL    1448.0       -2.0    1640.0   \n",
       "2018-12-21  Delta Airlines    ATL  TPA    1846.0        9.0    2000.0   \n",
       "2018-12-21  Delta Airlines    ATL  DFW    1831.0        2.0    1955.0   \n",
       "2018-12-21  Delta Airlines    DFW  ATL    1724.0       -1.0    2032.0   \n",
       "\n",
       "            ARR_DELAY  CANCELLED  DISTANCE  FL_DATE_MONTH FL_DATE_DAY  \\\n",
       "FL_DATE                                                                 \n",
       "2018-12-21       -4.0        0.0     590.0             12      Friday   \n",
       "2018-12-21       13.0        0.0     406.0             12      Friday   \n",
       "2018-12-21       -5.0        0.0     406.0             12      Friday   \n",
       "2018-12-21       -8.0        0.0     731.0             12      Friday   \n",
       "2018-12-21        2.0        0.0     731.0             12      Friday   \n",
       "\n",
       "            DELAY_LEVEL TIME_OF_DAY_DEP TIME_OF_DAY_ARR  \n",
       "FL_DATE                                                  \n",
       "2018-12-21            0         Morning         Morning  \n",
       "2018-12-21            1       Afternoon         Evening  \n",
       "2018-12-21            0         Evening         Evening  \n",
       "2018-12-21            0         Evening         Evening  \n",
       "2018-12-21            0         Evening         Evening  "
      ]
     },
     "metadata": {},
     "output_type": "display_data"
    },
    {
     "data": {
      "text/html": [
       "<div>\n",
       "<style scoped>\n",
       "    .dataframe tbody tr th:only-of-type {\n",
       "        vertical-align: middle;\n",
       "    }\n",
       "\n",
       "    .dataframe tbody tr th {\n",
       "        vertical-align: top;\n",
       "    }\n",
       "\n",
       "    .dataframe thead th {\n",
       "        text-align: right;\n",
       "    }\n",
       "</style>\n",
       "<table border=\"1\" class=\"dataframe\">\n",
       "  <thead>\n",
       "    <tr style=\"text-align: right;\">\n",
       "      <th></th>\n",
       "      <th>AIRLINE</th>\n",
       "      <th>ORIGIN</th>\n",
       "      <th>DEST</th>\n",
       "      <th>DEP_TIME</th>\n",
       "      <th>DEP_DELAY</th>\n",
       "      <th>ARR_TIME</th>\n",
       "      <th>ARR_DELAY</th>\n",
       "      <th>CANCELLED</th>\n",
       "      <th>DISTANCE</th>\n",
       "      <th>FL_DATE_MONTH</th>\n",
       "      <th>FL_DATE_DAY</th>\n",
       "      <th>DELAY_LEVEL</th>\n",
       "      <th>TIME_OF_DAY_DEP</th>\n",
       "      <th>TIME_OF_DAY_ARR</th>\n",
       "    </tr>\n",
       "    <tr>\n",
       "      <th>FL_DATE</th>\n",
       "      <th></th>\n",
       "      <th></th>\n",
       "      <th></th>\n",
       "      <th></th>\n",
       "      <th></th>\n",
       "      <th></th>\n",
       "      <th></th>\n",
       "      <th></th>\n",
       "      <th></th>\n",
       "      <th></th>\n",
       "      <th></th>\n",
       "      <th></th>\n",
       "      <th></th>\n",
       "      <th></th>\n",
       "    </tr>\n",
       "  </thead>\n",
       "  <tbody>\n",
       "    <tr>\n",
       "      <th>2018-12-31</th>\n",
       "      <td>American Airlines</td>\n",
       "      <td>DCA</td>\n",
       "      <td>CLT</td>\n",
       "      <td>1530.0</td>\n",
       "      <td>-4.0</td>\n",
       "      <td>1709.0</td>\n",
       "      <td>-5.0</td>\n",
       "      <td>0.0</td>\n",
       "      <td>331.0</td>\n",
       "      <td>12</td>\n",
       "      <td>Monday</td>\n",
       "      <td>0</td>\n",
       "      <td>Afternoon</td>\n",
       "      <td>Evening</td>\n",
       "    </tr>\n",
       "    <tr>\n",
       "      <th>2018-12-31</th>\n",
       "      <td>American Airlines</td>\n",
       "      <td>CLT</td>\n",
       "      <td>DFW</td>\n",
       "      <td>1757.0</td>\n",
       "      <td>6.0</td>\n",
       "      <td>1953.0</td>\n",
       "      <td>1.0</td>\n",
       "      <td>0.0</td>\n",
       "      <td>936.0</td>\n",
       "      <td>12</td>\n",
       "      <td>Monday</td>\n",
       "      <td>0</td>\n",
       "      <td>Evening</td>\n",
       "      <td>Evening</td>\n",
       "    </tr>\n",
       "    <tr>\n",
       "      <th>2018-12-31</th>\n",
       "      <td>American Airlines</td>\n",
       "      <td>CLT</td>\n",
       "      <td>MEM</td>\n",
       "      <td>2010.0</td>\n",
       "      <td>-5.0</td>\n",
       "      <td>2118.0</td>\n",
       "      <td>11.0</td>\n",
       "      <td>0.0</td>\n",
       "      <td>511.0</td>\n",
       "      <td>12</td>\n",
       "      <td>Monday</td>\n",
       "      <td>1</td>\n",
       "      <td>Evening</td>\n",
       "      <td>NaN</td>\n",
       "    </tr>\n",
       "    <tr>\n",
       "      <th>2018-12-31</th>\n",
       "      <td>American Airlines</td>\n",
       "      <td>CLT</td>\n",
       "      <td>RDU</td>\n",
       "      <td>1323.0</td>\n",
       "      <td>23.0</td>\n",
       "      <td>1404.0</td>\n",
       "      <td>14.0</td>\n",
       "      <td>0.0</td>\n",
       "      <td>130.0</td>\n",
       "      <td>12</td>\n",
       "      <td>Monday</td>\n",
       "      <td>1</td>\n",
       "      <td>Afternoon</td>\n",
       "      <td>Afternoon</td>\n",
       "    </tr>\n",
       "    <tr>\n",
       "      <th>2018-12-31</th>\n",
       "      <td>American Airlines</td>\n",
       "      <td>RDU</td>\n",
       "      <td>CLT</td>\n",
       "      <td>1443.0</td>\n",
       "      <td>8.0</td>\n",
       "      <td>1542.0</td>\n",
       "      <td>-4.0</td>\n",
       "      <td>0.0</td>\n",
       "      <td>130.0</td>\n",
       "      <td>12</td>\n",
       "      <td>Monday</td>\n",
       "      <td>0</td>\n",
       "      <td>Afternoon</td>\n",
       "      <td>Afternoon</td>\n",
       "    </tr>\n",
       "  </tbody>\n",
       "</table>\n",
       "</div>"
      ],
      "text/plain": [
       "                      AIRLINE ORIGIN DEST  DEP_TIME  DEP_DELAY  ARR_TIME  \\\n",
       "FL_DATE                                                                    \n",
       "2018-12-31  American Airlines    DCA  CLT    1530.0       -4.0    1709.0   \n",
       "2018-12-31  American Airlines    CLT  DFW    1757.0        6.0    1953.0   \n",
       "2018-12-31  American Airlines    CLT  MEM    2010.0       -5.0    2118.0   \n",
       "2018-12-31  American Airlines    CLT  RDU    1323.0       23.0    1404.0   \n",
       "2018-12-31  American Airlines    RDU  CLT    1443.0        8.0    1542.0   \n",
       "\n",
       "            ARR_DELAY  CANCELLED  DISTANCE  FL_DATE_MONTH FL_DATE_DAY  \\\n",
       "FL_DATE                                                                 \n",
       "2018-12-31       -5.0        0.0     331.0             12      Monday   \n",
       "2018-12-31        1.0        0.0     936.0             12      Monday   \n",
       "2018-12-31       11.0        0.0     511.0             12      Monday   \n",
       "2018-12-31       14.0        0.0     130.0             12      Monday   \n",
       "2018-12-31       -4.0        0.0     130.0             12      Monday   \n",
       "\n",
       "            DELAY_LEVEL TIME_OF_DAY_DEP TIME_OF_DAY_ARR  \n",
       "FL_DATE                                                  \n",
       "2018-12-31            0       Afternoon         Evening  \n",
       "2018-12-31            0         Evening         Evening  \n",
       "2018-12-31            1         Evening             NaN  \n",
       "2018-12-31            1       Afternoon       Afternoon  \n",
       "2018-12-31            0       Afternoon       Afternoon  "
      ]
     },
     "metadata": {},
     "output_type": "display_data"
    },
    {
     "name": "stdout",
     "output_type": "stream",
     "text": [
      "<class 'pandas.core.frame.DataFrame'>\n",
      "DatetimeIndex: 69168 entries, 2018-12-21 to 2018-12-31\n",
      "Data columns (total 14 columns):\n",
      "AIRLINE            69168 non-null object\n",
      "ORIGIN             69168 non-null object\n",
      "DEST               69168 non-null object\n",
      "DEP_TIME           69168 non-null float64\n",
      "DEP_DELAY          69168 non-null float64\n",
      "ARR_TIME           69168 non-null float64\n",
      "ARR_DELAY          69168 non-null float64\n",
      "CANCELLED          69168 non-null float64\n",
      "DISTANCE           69168 non-null float64\n",
      "FL_DATE_MONTH      69168 non-null int64\n",
      "FL_DATE_DAY        69168 non-null object\n",
      "DELAY_LEVEL        69168 non-null int64\n",
      "TIME_OF_DAY_DEP    63390 non-null category\n",
      "TIME_OF_DAY_ARR    58110 non-null category\n",
      "dtypes: category(2), float64(6), int64(2), object(4)\n",
      "memory usage: 7.0+ MB\n"
     ]
    }
   ],
   "source": [
    "#faa considers year end travel season December 21-January 2. dataset ends 12-31-2018. #dataset sampled from 12-21-2018-12-31-2018.\n",
    "df = df['2018-12-21':'2018-12-31']\n",
    "display(df.head())\n",
    "display(df.tail())\n",
    "df.info()"
   ]
  },
  {
   "cell_type": "code",
   "execution_count": 29,
   "metadata": {},
   "outputs": [
    {
     "data": {
      "image/png": "[encoded data removed]",
      "text/plain": [
       "<Figure size 720x504 with 1 Axes>"
      ]
     },
     "metadata": {},
     "output_type": "display_data"
    }
   ],
   "source": [
    "#arrival delay December 21-31\n",
    "delay_type = lambda x:((0,1)[x > 5],2)[x > 45]\n",
    "df['DELAY_LEVEL_HOLIDAY'] = df['ARR_DELAY'].apply(delay_type)\n",
    "\n",
    "fig = plt.figure(1, figsize=(10,7))\n",
    "ax = sns.countplot(y=\"AIRLINE\", hue='DELAY_LEVEL_HOLIDAY', data=df)\n",
    "\n",
    "plt.setp(ax.get_xticklabels(), fontsize=12, weight = 'normal', rotation = 0);\n",
    "plt.setp(ax.get_yticklabels(), fontsize=12, weight = 'bold', rotation = 0);\n",
    "ax.yaxis.label.set_visible(False)\n",
    "plt.xlabel('Flight count', fontsize=16, weight = 'bold', labelpad=10)\n",
    "plt.title('Arrival Delays by Airline December 21-31\\n')\n",
    "L = plt.legend()\n",
    "L.get_texts()[0].set_text('on time (t < 5 min)')\n",
    "L.get_texts()[1].set_text('small delay (5 < t < 45 min)')\n",
    "L.get_texts()[2].set_text('large delay (t > 45 min)')\n",
    "plt.show()"
   ]
  },
  {
   "cell_type": "code",
   "execution_count": 30,
   "metadata": {},
   "outputs": [],
   "source": [
    "#remove columns that will not be used for analysis. FL_DATE_MONTH not needed because only December dates included.\n",
    "df.drop(['CANCELLED','FL_DATE_MONTH','ARR_TIME','DEP_TIME','DELAY_LEVEL_HOLIDAY'], axis =1, inplace =True)"
   ]
  },
  {
   "cell_type": "code",
   "execution_count": 31,
   "metadata": {},
   "outputs": [
    {
     "data": {
      "text/html": [
       "<div>\n",
       "<style scoped>\n",
       "    .dataframe tbody tr th:only-of-type {\n",
       "        vertical-align: middle;\n",
       "    }\n",
       "\n",
       "    .dataframe tbody tr th {\n",
       "        vertical-align: top;\n",
       "    }\n",
       "\n",
       "    .dataframe thead th {\n",
       "        text-align: right;\n",
       "    }\n",
       "</style>\n",
       "<table border=\"1\" class=\"dataframe\">\n",
       "  <thead>\n",
       "    <tr style=\"text-align: right;\">\n",
       "      <th></th>\n",
       "      <th>FL_DATE</th>\n",
       "      <th>AIRLINE</th>\n",
       "      <th>ORIGIN</th>\n",
       "      <th>DEST</th>\n",
       "      <th>DEP_DELAY</th>\n",
       "      <th>ARR_DELAY</th>\n",
       "      <th>DISTANCE</th>\n",
       "      <th>FL_DATE_DAY</th>\n",
       "      <th>DELAY_LEVEL</th>\n",
       "      <th>TIME_OF_DAY_DEP</th>\n",
       "      <th>TIME_OF_DAY_ARR</th>\n",
       "    </tr>\n",
       "  </thead>\n",
       "  <tbody>\n",
       "    <tr>\n",
       "      <th>0</th>\n",
       "      <td>2018-12-21</td>\n",
       "      <td>Delta Airlines</td>\n",
       "      <td>SLC</td>\n",
       "      <td>LAX</td>\n",
       "      <td>0.0</td>\n",
       "      <td>-4.0</td>\n",
       "      <td>590.0</td>\n",
       "      <td>Friday</td>\n",
       "      <td>0</td>\n",
       "      <td>Morning</td>\n",
       "      <td>Morning</td>\n",
       "    </tr>\n",
       "    <tr>\n",
       "      <th>1</th>\n",
       "      <td>2018-12-21</td>\n",
       "      <td>Delta Airlines</td>\n",
       "      <td>TPA</td>\n",
       "      <td>ATL</td>\n",
       "      <td>-2.0</td>\n",
       "      <td>13.0</td>\n",
       "      <td>406.0</td>\n",
       "      <td>Friday</td>\n",
       "      <td>1</td>\n",
       "      <td>Afternoon</td>\n",
       "      <td>Evening</td>\n",
       "    </tr>\n",
       "    <tr>\n",
       "      <th>2</th>\n",
       "      <td>2018-12-21</td>\n",
       "      <td>Delta Airlines</td>\n",
       "      <td>ATL</td>\n",
       "      <td>TPA</td>\n",
       "      <td>9.0</td>\n",
       "      <td>-5.0</td>\n",
       "      <td>406.0</td>\n",
       "      <td>Friday</td>\n",
       "      <td>0</td>\n",
       "      <td>Evening</td>\n",
       "      <td>Evening</td>\n",
       "    </tr>\n",
       "    <tr>\n",
       "      <th>3</th>\n",
       "      <td>2018-12-21</td>\n",
       "      <td>Delta Airlines</td>\n",
       "      <td>ATL</td>\n",
       "      <td>DFW</td>\n",
       "      <td>2.0</td>\n",
       "      <td>-8.0</td>\n",
       "      <td>731.0</td>\n",
       "      <td>Friday</td>\n",
       "      <td>0</td>\n",
       "      <td>Evening</td>\n",
       "      <td>Evening</td>\n",
       "    </tr>\n",
       "    <tr>\n",
       "      <th>4</th>\n",
       "      <td>2018-12-21</td>\n",
       "      <td>Delta Airlines</td>\n",
       "      <td>DFW</td>\n",
       "      <td>ATL</td>\n",
       "      <td>-1.0</td>\n",
       "      <td>2.0</td>\n",
       "      <td>731.0</td>\n",
       "      <td>Friday</td>\n",
       "      <td>0</td>\n",
       "      <td>Evening</td>\n",
       "      <td>Evening</td>\n",
       "    </tr>\n",
       "  </tbody>\n",
       "</table>\n",
       "</div>"
      ],
      "text/plain": [
       "     FL_DATE         AIRLINE ORIGIN DEST  DEP_DELAY  ARR_DELAY  DISTANCE  \\\n",
       "0 2018-12-21  Delta Airlines    SLC  LAX        0.0       -4.0     590.0   \n",
       "1 2018-12-21  Delta Airlines    TPA  ATL       -2.0       13.0     406.0   \n",
       "2 2018-12-21  Delta Airlines    ATL  TPA        9.0       -5.0     406.0   \n",
       "3 2018-12-21  Delta Airlines    ATL  DFW        2.0       -8.0     731.0   \n",
       "4 2018-12-21  Delta Airlines    DFW  ATL       -1.0        2.0     731.0   \n",
       "\n",
       "  FL_DATE_DAY  DELAY_LEVEL TIME_OF_DAY_DEP TIME_OF_DAY_ARR  \n",
       "0      Friday            0         Morning         Morning  \n",
       "1      Friday            1       Afternoon         Evening  \n",
       "2      Friday            0         Evening         Evening  \n",
       "3      Friday            0         Evening         Evening  \n",
       "4      Friday            0         Evening         Evening  "
      ]
     },
     "execution_count": 31,
     "metadata": {},
     "output_type": "execute_result"
    }
   ],
   "source": [
    "df.reset_index(inplace=True)\n",
    "df.head()"
   ]
  },
  {
   "cell_type": "code",
   "execution_count": 32,
   "metadata": {},
   "outputs": [],
   "source": [
    "#arrival delays less than 15 minutes are general delays according to FAA\n",
    "df['DELAY_15'] = df['ARR_DELAY'].apply(lambda x: 'Delayed' if x >= 15 else 'Not Delayed')\n",
    "df['DELAY_15'] = df['DELAY_15'].map({'Delayed':1, 'Not Delayed':0})"
   ]
  },
  {
   "cell_type": "code",
   "execution_count": 33,
   "metadata": {},
   "outputs": [],
   "source": [
    "df['DEP_DELAY'] = df['DEP_DELAY'].astype(int)\n",
    "df['ARR_DELAY'] = df['ARR_DELAY'].astype(int)\n",
    "df['DISTANCE'] = df['DISTANCE'].astype(int)"
   ]
  },
  {
   "cell_type": "code",
   "execution_count": 34,
   "metadata": {},
   "outputs": [
    {
     "data": {
      "text/html": [
       "<div>\n",
       "<style scoped>\n",
       "    .dataframe tbody tr th:only-of-type {\n",
       "        vertical-align: middle;\n",
       "    }\n",
       "\n",
       "    .dataframe tbody tr th {\n",
       "        vertical-align: top;\n",
       "    }\n",
       "\n",
       "    .dataframe thead th {\n",
       "        text-align: right;\n",
       "    }\n",
       "</style>\n",
       "<table border=\"1\" class=\"dataframe\">\n",
       "  <thead>\n",
       "    <tr style=\"text-align: right;\">\n",
       "      <th></th>\n",
       "      <th>FL_DATE</th>\n",
       "      <th>AIRLINE</th>\n",
       "      <th>ORIGIN</th>\n",
       "      <th>DEST</th>\n",
       "      <th>DEP_DELAY</th>\n",
       "      <th>ARR_DELAY</th>\n",
       "      <th>DISTANCE</th>\n",
       "      <th>FL_DATE_DAY</th>\n",
       "      <th>DELAY_LEVEL</th>\n",
       "      <th>TIME_OF_DAY_DEP</th>\n",
       "      <th>TIME_OF_DAY_ARR</th>\n",
       "      <th>DELAY_15</th>\n",
       "    </tr>\n",
       "  </thead>\n",
       "  <tbody>\n",
       "    <tr>\n",
       "      <th>0</th>\n",
       "      <td>2018-12-21</td>\n",
       "      <td>Delta Airlines</td>\n",
       "      <td>SLC</td>\n",
       "      <td>LAX</td>\n",
       "      <td>0</td>\n",
       "      <td>-4</td>\n",
       "      <td>590</td>\n",
       "      <td>Friday</td>\n",
       "      <td>0</td>\n",
       "      <td>Morning</td>\n",
       "      <td>Morning</td>\n",
       "      <td>0</td>\n",
       "    </tr>\n",
       "    <tr>\n",
       "      <th>1</th>\n",
       "      <td>2018-12-21</td>\n",
       "      <td>Delta Airlines</td>\n",
       "      <td>TPA</td>\n",
       "      <td>ATL</td>\n",
       "      <td>-2</td>\n",
       "      <td>13</td>\n",
       "      <td>406</td>\n",
       "      <td>Friday</td>\n",
       "      <td>1</td>\n",
       "      <td>Afternoon</td>\n",
       "      <td>Evening</td>\n",
       "      <td>0</td>\n",
       "    </tr>\n",
       "    <tr>\n",
       "      <th>2</th>\n",
       "      <td>2018-12-21</td>\n",
       "      <td>Delta Airlines</td>\n",
       "      <td>ATL</td>\n",
       "      <td>TPA</td>\n",
       "      <td>9</td>\n",
       "      <td>-5</td>\n",
       "      <td>406</td>\n",
       "      <td>Friday</td>\n",
       "      <td>0</td>\n",
       "      <td>Evening</td>\n",
       "      <td>Evening</td>\n",
       "      <td>0</td>\n",
       "    </tr>\n",
       "    <tr>\n",
       "      <th>3</th>\n",
       "      <td>2018-12-21</td>\n",
       "      <td>Delta Airlines</td>\n",
       "      <td>ATL</td>\n",
       "      <td>DFW</td>\n",
       "      <td>2</td>\n",
       "      <td>-8</td>\n",
       "      <td>731</td>\n",
       "      <td>Friday</td>\n",
       "      <td>0</td>\n",
       "      <td>Evening</td>\n",
       "      <td>Evening</td>\n",
       "      <td>0</td>\n",
       "    </tr>\n",
       "    <tr>\n",
       "      <th>4</th>\n",
       "      <td>2018-12-21</td>\n",
       "      <td>Delta Airlines</td>\n",
       "      <td>DFW</td>\n",
       "      <td>ATL</td>\n",
       "      <td>-1</td>\n",
       "      <td>2</td>\n",
       "      <td>731</td>\n",
       "      <td>Friday</td>\n",
       "      <td>0</td>\n",
       "      <td>Evening</td>\n",
       "      <td>Evening</td>\n",
       "      <td>0</td>\n",
       "    </tr>\n",
       "  </tbody>\n",
       "</table>\n",
       "</div>"
      ],
      "text/plain": [
       "     FL_DATE         AIRLINE ORIGIN DEST  DEP_DELAY  ARR_DELAY  DISTANCE  \\\n",
       "0 2018-12-21  Delta Airlines    SLC  LAX          0         -4       590   \n",
       "1 2018-12-21  Delta Airlines    TPA  ATL         -2         13       406   \n",
       "2 2018-12-21  Delta Airlines    ATL  TPA          9         -5       406   \n",
       "3 2018-12-21  Delta Airlines    ATL  DFW          2         -8       731   \n",
       "4 2018-12-21  Delta Airlines    DFW  ATL         -1          2       731   \n",
       "\n",
       "  FL_DATE_DAY  DELAY_LEVEL TIME_OF_DAY_DEP TIME_OF_DAY_ARR  DELAY_15  \n",
       "0      Friday            0         Morning         Morning         0  \n",
       "1      Friday            1       Afternoon         Evening         0  \n",
       "2      Friday            0         Evening         Evening         0  \n",
       "3      Friday            0         Evening         Evening         0  \n",
       "4      Friday            0         Evening         Evening         0  "
      ]
     },
     "metadata": {},
     "output_type": "display_data"
    },
    {
     "data": {
      "text/plain": [
       "FL_DATE            datetime64[ns]\n",
       "AIRLINE                    object\n",
       "ORIGIN                     object\n",
       "DEST                       object\n",
       "DEP_DELAY                   int32\n",
       "ARR_DELAY                   int32\n",
       "DISTANCE                    int32\n",
       "FL_DATE_DAY                object\n",
       "DELAY_LEVEL                 int64\n",
       "TIME_OF_DAY_DEP          category\n",
       "TIME_OF_DAY_ARR          category\n",
       "DELAY_15                    int64\n",
       "dtype: object"
      ]
     },
     "execution_count": 34,
     "metadata": {},
     "output_type": "execute_result"
    }
   ],
   "source": [
    "display(df.head())\n",
    "df.dtypes"
   ]
  },
  {
   "cell_type": "code",
   "execution_count": 35,
   "metadata": {},
   "outputs": [],
   "source": [
    "y = df['DELAY_15']\n",
    "X = df.drop(['DELAY_15'], axis=1)"
   ]
  },
  {
   "cell_type": "code",
   "execution_count": 36,
   "metadata": {},
   "outputs": [
    {
     "data": {
      "text/plain": [
       "<matplotlib.axes._subplots.AxesSubplot at 0x1989b34f0f0>"
      ]
     },
     "execution_count": 36,
     "metadata": {},
     "output_type": "execute_result"
    },
    {
     "data": {
      "image/png": "[encoded data removed]",
      "text/plain": [
       "<Figure size 432x288 with 1 Axes>"
      ]
     },
     "metadata": {},
     "output_type": "display_data"
    }
   ],
   "source": [
    "y.hist()"
   ]
  },
  {
   "cell_type": "code",
   "execution_count": 37,
   "metadata": {},
   "outputs": [],
   "source": [
    "#convert to categorical features\n",
    "categories = ['ORIGIN', 'DEST','AIRLINE','FL_DATE','FL_DATE_DAY','DELAY_LEVEL','TIME_OF_DAY_ARR','TIME_OF_DAY_DEP'] # Categorical features\n",
    "for feature in X[categories]: # Loop through all columns in the dataframe\n",
    "    X[feature] = pd.Categorical(X[feature]).codes "
   ]
  },
  {
   "cell_type": "markdown",
   "metadata": {},
   "source": [
    "## Multicollinearity"
   ]
  },
  {
   "cell_type": "markdown",
   "metadata": {},
   "source": [
    "Let's check to see that our predictor variables are not too highly correlated with one another. We need to be able to assume that one variable can change while the others remain constant. This assumption cannot be made if one or more predictors variables are highly correlated with another. A high correlation coefficient is considered bewteen 0.7 and 0.8. For this analysis, I chose 0.75. "
   ]
  },
  {
   "cell_type": "code",
   "execution_count": 38,
   "metadata": {},
   "outputs": [
    {
     "data": {
      "text/plain": [
       "FL_DATE             int8\n",
       "AIRLINE             int8\n",
       "ORIGIN             int16\n",
       "DEST               int16\n",
       "DEP_DELAY          int32\n",
       "ARR_DELAY          int32\n",
       "DISTANCE           int32\n",
       "FL_DATE_DAY         int8\n",
       "DELAY_LEVEL         int8\n",
       "TIME_OF_DAY_DEP     int8\n",
       "TIME_OF_DAY_ARR     int8\n",
       "dtype: object"
      ]
     },
     "execution_count": 38,
     "metadata": {},
     "output_type": "execute_result"
    }
   ],
   "source": [
    "df_copy = X.copy()\n",
    "df_copy.dtypes"
   ]
  },
  {
   "cell_type": "code",
   "execution_count": 39,
   "metadata": {},
   "outputs": [
    {
     "data": {
      "image/png": "[encoded data removed]",
      "text/plain": [
       "<Figure size 1080x1080 with 2 Axes>"
      ]
     },
     "metadata": {},
     "output_type": "display_data"
    }
   ],
   "source": [
    "correlation = abs(round(df_copy.corr(), 2))\n",
    "f, ax = plt.subplots(figsize=(15, 15))\n",
    "sns.heatmap(correlation, annot = True, square=True, cmap =sns.diverging_palette(220, 10, as_cmap=True))\n",
    "plt.title('Correlation Heatmap',fontweight='bold',fontsize=15)\n",
    "plt.show();"
   ]
  },
  {
   "cell_type": "code",
   "execution_count": 40,
   "metadata": {},
   "outputs": [
    {
     "data": {
      "text/html": [
       "<div>\n",
       "<style scoped>\n",
       "    .dataframe tbody tr th:only-of-type {\n",
       "        vertical-align: middle;\n",
       "    }\n",
       "\n",
       "    .dataframe tbody tr th {\n",
       "        vertical-align: top;\n",
       "    }\n",
       "\n",
       "    .dataframe thead th {\n",
       "        text-align: right;\n",
       "    }\n",
       "</style>\n",
       "<table border=\"1\" class=\"dataframe\">\n",
       "  <thead>\n",
       "    <tr style=\"text-align: right;\">\n",
       "      <th></th>\n",
       "      <th>FL_DATE</th>\n",
       "      <th>AIRLINE</th>\n",
       "      <th>ORIGIN</th>\n",
       "      <th>DEST</th>\n",
       "      <th>DEP_DELAY</th>\n",
       "      <th>ARR_DELAY</th>\n",
       "      <th>DISTANCE</th>\n",
       "      <th>FL_DATE_DAY</th>\n",
       "      <th>DELAY_LEVEL</th>\n",
       "      <th>TIME_OF_DAY_DEP</th>\n",
       "      <th>TIME_OF_DAY_ARR</th>\n",
       "    </tr>\n",
       "  </thead>\n",
       "  <tbody>\n",
       "    <tr>\n",
       "      <th>FL_DATE</th>\n",
       "      <td>True</td>\n",
       "      <td>False</td>\n",
       "      <td>False</td>\n",
       "      <td>False</td>\n",
       "      <td>False</td>\n",
       "      <td>False</td>\n",
       "      <td>False</td>\n",
       "      <td>False</td>\n",
       "      <td>False</td>\n",
       "      <td>False</td>\n",
       "      <td>False</td>\n",
       "    </tr>\n",
       "    <tr>\n",
       "      <th>AIRLINE</th>\n",
       "      <td>False</td>\n",
       "      <td>True</td>\n",
       "      <td>False</td>\n",
       "      <td>False</td>\n",
       "      <td>False</td>\n",
       "      <td>False</td>\n",
       "      <td>False</td>\n",
       "      <td>False</td>\n",
       "      <td>False</td>\n",
       "      <td>False</td>\n",
       "      <td>False</td>\n",
       "    </tr>\n",
       "    <tr>\n",
       "      <th>ORIGIN</th>\n",
       "      <td>False</td>\n",
       "      <td>False</td>\n",
       "      <td>True</td>\n",
       "      <td>False</td>\n",
       "      <td>False</td>\n",
       "      <td>False</td>\n",
       "      <td>False</td>\n",
       "      <td>False</td>\n",
       "      <td>False</td>\n",
       "      <td>False</td>\n",
       "      <td>False</td>\n",
       "    </tr>\n",
       "    <tr>\n",
       "      <th>DEST</th>\n",
       "      <td>False</td>\n",
       "      <td>False</td>\n",
       "      <td>False</td>\n",
       "      <td>True</td>\n",
       "      <td>False</td>\n",
       "      <td>False</td>\n",
       "      <td>False</td>\n",
       "      <td>False</td>\n",
       "      <td>False</td>\n",
       "      <td>False</td>\n",
       "      <td>False</td>\n",
       "    </tr>\n",
       "    <tr>\n",
       "      <th>DEP_DELAY</th>\n",
       "      <td>False</td>\n",
       "      <td>False</td>\n",
       "      <td>False</td>\n",
       "      <td>False</td>\n",
       "      <td>True</td>\n",
       "      <td>True</td>\n",
       "      <td>False</td>\n",
       "      <td>False</td>\n",
       "      <td>False</td>\n",
       "      <td>False</td>\n",
       "      <td>False</td>\n",
       "    </tr>\n",
       "    <tr>\n",
       "      <th>ARR_DELAY</th>\n",
       "      <td>False</td>\n",
       "      <td>False</td>\n",
       "      <td>False</td>\n",
       "      <td>False</td>\n",
       "      <td>True</td>\n",
       "      <td>True</td>\n",
       "      <td>False</td>\n",
       "      <td>False</td>\n",
       "      <td>False</td>\n",
       "      <td>False</td>\n",
       "      <td>False</td>\n",
       "    </tr>\n",
       "    <tr>\n",
       "      <th>DISTANCE</th>\n",
       "      <td>False</td>\n",
       "      <td>False</td>\n",
       "      <td>False</td>\n",
       "      <td>False</td>\n",
       "      <td>False</td>\n",
       "      <td>False</td>\n",
       "      <td>True</td>\n",
       "      <td>False</td>\n",
       "      <td>False</td>\n",
       "      <td>False</td>\n",
       "      <td>False</td>\n",
       "    </tr>\n",
       "    <tr>\n",
       "      <th>FL_DATE_DAY</th>\n",
       "      <td>False</td>\n",
       "      <td>False</td>\n",
       "      <td>False</td>\n",
       "      <td>False</td>\n",
       "      <td>False</td>\n",
       "      <td>False</td>\n",
       "      <td>False</td>\n",
       "      <td>True</td>\n",
       "      <td>False</td>\n",
       "      <td>False</td>\n",
       "      <td>False</td>\n",
       "    </tr>\n",
       "    <tr>\n",
       "      <th>DELAY_LEVEL</th>\n",
       "      <td>False</td>\n",
       "      <td>False</td>\n",
       "      <td>False</td>\n",
       "      <td>False</td>\n",
       "      <td>False</td>\n",
       "      <td>False</td>\n",
       "      <td>False</td>\n",
       "      <td>False</td>\n",
       "      <td>True</td>\n",
       "      <td>False</td>\n",
       "      <td>False</td>\n",
       "    </tr>\n",
       "    <tr>\n",
       "      <th>TIME_OF_DAY_DEP</th>\n",
       "      <td>False</td>\n",
       "      <td>False</td>\n",
       "      <td>False</td>\n",
       "      <td>False</td>\n",
       "      <td>False</td>\n",
       "      <td>False</td>\n",
       "      <td>False</td>\n",
       "      <td>False</td>\n",
       "      <td>False</td>\n",
       "      <td>True</td>\n",
       "      <td>False</td>\n",
       "    </tr>\n",
       "    <tr>\n",
       "      <th>TIME_OF_DAY_ARR</th>\n",
       "      <td>False</td>\n",
       "      <td>False</td>\n",
       "      <td>False</td>\n",
       "      <td>False</td>\n",
       "      <td>False</td>\n",
       "      <td>False</td>\n",
       "      <td>False</td>\n",
       "      <td>False</td>\n",
       "      <td>False</td>\n",
       "      <td>False</td>\n",
       "      <td>True</td>\n",
       "    </tr>\n",
       "  </tbody>\n",
       "</table>\n",
       "</div>"
      ],
      "text/plain": [
       "                 FL_DATE  AIRLINE  ORIGIN   DEST  DEP_DELAY  ARR_DELAY  \\\n",
       "FL_DATE             True    False   False  False      False      False   \n",
       "AIRLINE            False     True   False  False      False      False   \n",
       "ORIGIN             False    False    True  False      False      False   \n",
       "DEST               False    False   False   True      False      False   \n",
       "DEP_DELAY          False    False   False  False       True       True   \n",
       "ARR_DELAY          False    False   False  False       True       True   \n",
       "DISTANCE           False    False   False  False      False      False   \n",
       "FL_DATE_DAY        False    False   False  False      False      False   \n",
       "DELAY_LEVEL        False    False   False  False      False      False   \n",
       "TIME_OF_DAY_DEP    False    False   False  False      False      False   \n",
       "TIME_OF_DAY_ARR    False    False   False  False      False      False   \n",
       "\n",
       "                 DISTANCE  FL_DATE_DAY  DELAY_LEVEL  TIME_OF_DAY_DEP  \\\n",
       "FL_DATE             False        False        False            False   \n",
       "AIRLINE             False        False        False            False   \n",
       "ORIGIN              False        False        False            False   \n",
       "DEST                False        False        False            False   \n",
       "DEP_DELAY           False        False        False            False   \n",
       "ARR_DELAY           False        False        False            False   \n",
       "DISTANCE             True        False        False            False   \n",
       "FL_DATE_DAY         False         True        False            False   \n",
       "DELAY_LEVEL         False        False         True            False   \n",
       "TIME_OF_DAY_DEP     False        False        False             True   \n",
       "TIME_OF_DAY_ARR     False        False        False            False   \n",
       "\n",
       "                 TIME_OF_DAY_ARR  \n",
       "FL_DATE                    False  \n",
       "AIRLINE                    False  \n",
       "ORIGIN                     False  \n",
       "DEST                       False  \n",
       "DEP_DELAY                  False  \n",
       "ARR_DELAY                  False  \n",
       "DISTANCE                   False  \n",
       "FL_DATE_DAY                False  \n",
       "DELAY_LEVEL                False  \n",
       "TIME_OF_DAY_DEP            False  \n",
       "TIME_OF_DAY_ARR             True  "
      ]
     },
     "execution_count": 40,
     "metadata": {},
     "output_type": "execute_result"
    }
   ],
   "source": [
    "collinearity = correlation > 0.75\n",
    "collinearity"
   ]
  },
  {
   "cell_type": "markdown",
   "metadata": {},
   "source": [
    "Because of high correlation with DEP_DELAY, I chose to drop ARR_DELAY from the dataset. "
   ]
  },
  {
   "cell_type": "code",
   "execution_count": 41,
   "metadata": {},
   "outputs": [],
   "source": [
    "X.drop(['ARR_DELAY',], axis =1, inplace =True)"
   ]
  },
  {
   "cell_type": "code",
   "execution_count": 42,
   "metadata": {},
   "outputs": [
    {
     "data": {
      "text/html": [
       "<div>\n",
       "<style scoped>\n",
       "    .dataframe tbody tr th:only-of-type {\n",
       "        vertical-align: middle;\n",
       "    }\n",
       "\n",
       "    .dataframe tbody tr th {\n",
       "        vertical-align: top;\n",
       "    }\n",
       "\n",
       "    .dataframe thead th {\n",
       "        text-align: right;\n",
       "    }\n",
       "</style>\n",
       "<table border=\"1\" class=\"dataframe\">\n",
       "  <thead>\n",
       "    <tr style=\"text-align: right;\">\n",
       "      <th></th>\n",
       "      <th>FL_DATE</th>\n",
       "      <th>AIRLINE</th>\n",
       "      <th>ORIGIN</th>\n",
       "      <th>DEST</th>\n",
       "      <th>DEP_DELAY</th>\n",
       "      <th>DISTANCE</th>\n",
       "      <th>FL_DATE_DAY</th>\n",
       "      <th>DELAY_LEVEL</th>\n",
       "      <th>TIME_OF_DAY_DEP</th>\n",
       "      <th>TIME_OF_DAY_ARR</th>\n",
       "    </tr>\n",
       "  </thead>\n",
       "  <tbody>\n",
       "    <tr>\n",
       "      <th>0</th>\n",
       "      <td>0</td>\n",
       "      <td>1</td>\n",
       "      <td>142</td>\n",
       "      <td>82</td>\n",
       "      <td>0</td>\n",
       "      <td>590</td>\n",
       "      <td>0</td>\n",
       "      <td>0</td>\n",
       "      <td>1</td>\n",
       "      <td>1</td>\n",
       "    </tr>\n",
       "    <tr>\n",
       "      <th>1</th>\n",
       "      <td>0</td>\n",
       "      <td>1</td>\n",
       "      <td>152</td>\n",
       "      <td>4</td>\n",
       "      <td>-2</td>\n",
       "      <td>406</td>\n",
       "      <td>0</td>\n",
       "      <td>1</td>\n",
       "      <td>2</td>\n",
       "      <td>3</td>\n",
       "    </tr>\n",
       "    <tr>\n",
       "      <th>2</th>\n",
       "      <td>0</td>\n",
       "      <td>1</td>\n",
       "      <td>5</td>\n",
       "      <td>147</td>\n",
       "      <td>9</td>\n",
       "      <td>406</td>\n",
       "      <td>0</td>\n",
       "      <td>0</td>\n",
       "      <td>3</td>\n",
       "      <td>3</td>\n",
       "    </tr>\n",
       "    <tr>\n",
       "      <th>3</th>\n",
       "      <td>0</td>\n",
       "      <td>1</td>\n",
       "      <td>5</td>\n",
       "      <td>39</td>\n",
       "      <td>2</td>\n",
       "      <td>731</td>\n",
       "      <td>0</td>\n",
       "      <td>0</td>\n",
       "      <td>3</td>\n",
       "      <td>3</td>\n",
       "    </tr>\n",
       "    <tr>\n",
       "      <th>4</th>\n",
       "      <td>0</td>\n",
       "      <td>1</td>\n",
       "      <td>40</td>\n",
       "      <td>4</td>\n",
       "      <td>-1</td>\n",
       "      <td>731</td>\n",
       "      <td>0</td>\n",
       "      <td>0</td>\n",
       "      <td>3</td>\n",
       "      <td>3</td>\n",
       "    </tr>\n",
       "  </tbody>\n",
       "</table>\n",
       "</div>"
      ],
      "text/plain": [
       "   FL_DATE  AIRLINE  ORIGIN  DEST  DEP_DELAY  DISTANCE  FL_DATE_DAY  \\\n",
       "0        0        1     142    82          0       590            0   \n",
       "1        0        1     152     4         -2       406            0   \n",
       "2        0        1       5   147          9       406            0   \n",
       "3        0        1       5    39          2       731            0   \n",
       "4        0        1      40     4         -1       731            0   \n",
       "\n",
       "   DELAY_LEVEL  TIME_OF_DAY_DEP  TIME_OF_DAY_ARR  \n",
       "0            0                1                1  \n",
       "1            1                2                3  \n",
       "2            0                3                3  \n",
       "3            0                3                3  \n",
       "4            0                3                3  "
      ]
     },
     "execution_count": 42,
     "metadata": {},
     "output_type": "execute_result"
    }
   ],
   "source": [
    "X.head()"
   ]
  },
  {
   "cell_type": "code",
   "execution_count": 43,
   "metadata": {},
   "outputs": [
    {
     "data": {
      "text/plain": [
       "FL_DATE             int8\n",
       "AIRLINE             int8\n",
       "ORIGIN             int16\n",
       "DEST               int16\n",
       "DEP_DELAY          int32\n",
       "DISTANCE           int32\n",
       "FL_DATE_DAY         int8\n",
       "DELAY_LEVEL         int8\n",
       "TIME_OF_DAY_DEP     int8\n",
       "TIME_OF_DAY_ARR     int8\n",
       "dtype: object"
      ]
     },
     "execution_count": 43,
     "metadata": {},
     "output_type": "execute_result"
    }
   ],
   "source": [
    "X.dtypes"
   ]
  },
  {
   "cell_type": "markdown",
   "metadata": {},
   "source": [
    "## Split Data into Training and Validation Sets"
   ]
  },
  {
   "cell_type": "code",
   "execution_count": 44,
   "metadata": {},
   "outputs": [],
   "source": [
    "#Split data into train and test sets\n",
    "X_train, X_test, y_train, y_test = train_test_split(X, y, test_size=0.20, random_state=42)"
   ]
  },
  {
   "cell_type": "markdown",
   "metadata": {},
   "source": [
    "# Building Classification Models"
   ]
  },
  {
   "cell_type": "markdown",
   "metadata": {},
   "source": [
    "Pipelines are created to streamline the process, conducting scaling, grid search and optimized model refitting in one step. Four classification models have been chosen:\n",
    "\n",
    "- K Nearest Neighbors - K Nearest Neighbors is a distance-based classifier, meaning that it implicitly assumes that the smaller the distance between 2 points, the more similar they are. It can be used for both Classification and Regression tasks.\n",
    "\n",
    "- Random Forest - Random Forest algorithm is an ensemble of Decision Trees. Random forests creates decision trees on randomly selected data samples, gets prediction from each tree and selects the best solution by means of voting.\n",
    "\n",
    "- XGBoost - XGBoost is a stand-alone library that implements popular gradient boosting algorithms in the fastest, most performant way possible. XGBoost is a great choice for classification tasks. It provides best-in-class performance compared to other classification algorithms.\n",
    "\n",
    "- Support Vector Machines - SVM is a supervised machine learning algorithm which can be used for classification or regression problems. It uses a technique called the kernel trick to transform your data and then based on these transformations it finds an optimal boundary between the possible outputs.\n",
    "\n",
    "GridsearchCV will be used to tune the models by finding the best perfoming parameters. "
   ]
  },
  {
   "cell_type": "markdown",
   "metadata": {},
   "source": [
    "## Creating Pipelines with GridSearchCV"
   ]
  },
  {
   "cell_type": "code",
   "execution_count": 45,
   "metadata": {},
   "outputs": [],
   "source": [
    "#create pipelines with GridSearch\n",
    "pipe_knn = make_pipeline(StandardScaler(), GridSearchCV(KNeighborsClassifier(), param_grid = {'n_neighbors':[5,10,20,40,50],\n",
    "              'metric': ['manhattan', 'euclidean','minkowski'],\n",
    "              'weights': ['uniform', 'distance']}, scoring='accuracy', cv=5, verbose = False, refit = True, return_train_score = True))\n",
    " \n",
    "pipe_rf = make_pipeline(StandardScaler(), GridSearchCV(RandomForestClassifier(random_state=42), param_grid= {'n_estimators': [4,10,20,50],\n",
    "                'criterion': ['gini', 'entropy'], 'max_depth': [None, 2, 5, 10, 15],'class_weight': ['balanced', None]},\n",
    "                scoring= 'accuracy',cv=5, verbose = False, refit = True, return_train_score = True))\n",
    "       \n",
    "pipe_xgb = make_pipeline(StandardScaler(), GridSearchCV(xgb.XGBClassifier(), param_grid= {'colsample_bytree': [0.3, 0.7, 1],\n",
    "    'n_estimators': [5,10,20,40,50],\n",
    "    'max_depth': [3, 5, 10]}, scoring= 'accuracy', cv=5, verbose = False, refit = True, return_train_score = True))\n",
    "                              \n",
    "pipe_svm = make_pipeline(StandardScaler(), GridSearchCV(svm.SVC(gamma = 'auto', random_state=42),\n",
    "            param_grid = {'C': [0.1, 1,5, 10], 'kernel': ('linear','rbf')},\n",
    "           scoring= 'accuracy', cv=5, verbose = False, refit = True, return_train_score = True))"
   ]
  },
  {
   "cell_type": "code",
   "execution_count": 46,
   "metadata": {},
   "outputs": [],
   "source": [
    "# list of pipelines, list of pipeline names\n",
    "pipelines = [pipe_knn,pipe_rf, pipe_xgb,pipe_svm]\n",
    "pipeline_names = ['K Nearest Neighbors','Random Forest','XGBoost','Support Vector Machine']"
   ]
  },
  {
   "cell_type": "code",
   "execution_count": 47,
   "metadata": {},
   "outputs": [
    {
     "name": "stdout",
     "output_type": "stream",
     "text": [
      "Pipeline(memory=None,\n",
      "         steps=[('standardscaler',\n",
      "                 StandardScaler(copy=True, with_mean=True, with_std=True)),\n",
      "                ('gridsearchcv',\n",
      "                 GridSearchCV(cv=5, error_score='raise-deprecating',\n",
      "                              estimator=KNeighborsClassifier(algorithm='auto',\n",
      "                                                             leaf_size=30,\n",
      "                                                             metric='minkowski',\n",
      "                                                             metric_params=None,\n",
      "                                                             n_jobs=None,\n",
      "                                                             n_neighbors=5, p=2,\n",
      "                                                             weights='uniform'),\n",
      "                              iid='warn', n_jobs=None,\n",
      "                              param_grid={'metric': ['manhattan', 'euclidean',\n",
      "                                                     'minkowski'],\n",
      "                                          'n_neighbors': [5, 10, 20, 40, 50],\n",
      "                                          'weights': ['uniform', 'distance']},\n",
      "                              pre_dispatch='2*n_jobs', refit=True,\n",
      "                              return_train_score=True, scoring='accuracy',\n",
      "                              verbose=False))],\n",
      "         verbose=False)\n",
      "Pipeline(memory=None,\n",
      "         steps=[('standardscaler',\n",
      "                 StandardScaler(copy=True, with_mean=True, with_std=True)),\n",
      "                ('gridsearchcv',\n",
      "                 GridSearchCV(cv=5, error_score='raise-deprecating',\n",
      "                              estimator=RandomForestClassifier(bootstrap=True,\n",
      "                                                               class_weight=None,\n",
      "                                                               criterion='gini',\n",
      "                                                               max_depth=None,\n",
      "                                                               max_features='auto',\n",
      "                                                               max_leaf_nodes=None,\n",
      "                                                               min_impurity_decrease=0.0,\n",
      "                                                               min_impurity_split...\n",
      "                                                               n_estimators='warn',\n",
      "                                                               n_jobs=None,\n",
      "                                                               oob_score=False,\n",
      "                                                               random_state=42,\n",
      "                                                               verbose=0,\n",
      "                                                               warm_start=False),\n",
      "                              iid='warn', n_jobs=None,\n",
      "                              param_grid={'class_weight': ['balanced', None],\n",
      "                                          'criterion': ['gini', 'entropy'],\n",
      "                                          'max_depth': [None, 2, 5, 10, 15],\n",
      "                                          'n_estimators': [4, 10, 20, 50]},\n",
      "                              pre_dispatch='2*n_jobs', refit=True,\n",
      "                              return_train_score=True, scoring='accuracy',\n",
      "                              verbose=False))],\n",
      "         verbose=False)\n",
      "Pipeline(memory=None,\n",
      "         steps=[('standardscaler',\n",
      "                 StandardScaler(copy=True, with_mean=True, with_std=True)),\n",
      "                ('gridsearchcv',\n",
      "                 GridSearchCV(cv=5, error_score='raise-deprecating',\n",
      "                              estimator=XGBClassifier(base_score=0.5,\n",
      "                                                      booster='gbtree',\n",
      "                                                      colsample_bylevel=1,\n",
      "                                                      colsample_bytree=1,\n",
      "                                                      gamma=0,\n",
      "                                                      learning_rate=0.1,\n",
      "                                                      max_delta_step=0,\n",
      "                                                      max_depth=3,\n",
      "                                                      min_child_weight=1,\n",
      "                                                      missing=None,...\n",
      "                                                      objective='binary:logistic',\n",
      "                                                      random_state=0,\n",
      "                                                      reg_alpha=0, reg_lambda=1,\n",
      "                                                      scale_pos_weight=1,\n",
      "                                                      seed=None, silent=True,\n",
      "                                                      subsample=1),\n",
      "                              iid='warn', n_jobs=None,\n",
      "                              param_grid={'colsample_bytree': [0.3, 0.7, 1],\n",
      "                                          'max_depth': [3, 5, 10],\n",
      "                                          'n_estimators': [5, 10, 20, 40, 50]},\n",
      "                              pre_dispatch='2*n_jobs', refit=True,\n",
      "                              return_train_score=True, scoring='accuracy',\n",
      "                              verbose=False))],\n",
      "         verbose=False)\n",
      "Pipeline(memory=None,\n",
      "         steps=[('standardscaler',\n",
      "                 StandardScaler(copy=True, with_mean=True, with_std=True)),\n",
      "                ('gridsearchcv',\n",
      "                 GridSearchCV(cv=5, error_score='raise-deprecating',\n",
      "                              estimator=SVC(C=1.0, cache_size=200,\n",
      "                                            class_weight=None, coef0=0.0,\n",
      "                                            decision_function_shape='ovr',\n",
      "                                            degree=3, gamma='auto',\n",
      "                                            kernel='rbf', max_iter=-1,\n",
      "                                            probability=False, random_state=42,\n",
      "                                            shrinking=True, tol=0.001,\n",
      "                                            verbose=False),\n",
      "                              iid='warn', n_jobs=None,\n",
      "                              param_grid={'C': [0.1, 1, 5, 10],\n",
      "                                          'kernel': ('linear', 'rbf')},\n",
      "                              pre_dispatch='2*n_jobs', refit=True,\n",
      "                              return_train_score=True, scoring='accuracy',\n",
      "                              verbose=False))],\n",
      "         verbose=False)\n"
     ]
    }
   ],
   "source": [
    "#fit each pipeline\n",
    "for pipe in pipelines:\n",
    "    print(pipe)\n",
    "    pipe.fit(X_train, y_train)"
   ]
  },
  {
   "cell_type": "markdown",
   "metadata": {},
   "source": [
    "## Best Model Parameters"
   ]
  },
  {
   "cell_type": "markdown",
   "metadata": {},
   "source": [
    "Final model constructed with best parameters for KNN.\n",
    "\n",
    "* **Distance Metric**: Manhattan\n",
    "* **Number of Neighbors**: 40\n",
    "* **Weights**: Distance\n",
    "__________________________________________________________________________________\n",
    "\n",
    "Final model constructed with best parameters for Random Forest. Random_State = 42 included for reproducibility.\n",
    "\n",
    "* **Bootstrap**: True\n",
    "* **Class Weight**: None\n",
    "* **Criterion**: Entropy\n",
    "* **Max Depth**: 10\n",
    "* **Number of Estimators**: 20\n",
    "__________________________________________________________________________________\n",
    "\n",
    "Final model constructed with best parameters for XGBoost.\n",
    "\n",
    "* **Colsample Bytree**: 0.7\n",
    "* **Max Depth**: 10\n",
    "* **Number of Estimators**: 40\n",
    "__________________________________________________________________________________\n",
    "\n",
    "Final model constructed with best parameters for SVM.\n",
    "\n",
    "* **C**: 5\n",
    "* **Kernel**: RBF\n",
    "* **Gamma**: Auto"
   ]
  },
  {
   "cell_type": "markdown",
   "metadata": {},
   "source": [
    "## Model Predictions"
   ]
  },
  {
   "cell_type": "markdown",
   "metadata": {},
   "source": [
    "Predictions made for training data and test data using optimized models so that model performance can be assessed."
   ]
  },
  {
   "cell_type": "code",
   "execution_count": 52,
   "metadata": {},
   "outputs": [],
   "source": [
    "#predictions training data\n",
    "train_knn_preds = pipe_knn.predict(X_train)\n",
    "train_rf_preds = pipe_rf.predict(X_train)\n",
    "train_svm_preds = pipe_svm.predict(X_train)\n",
    "train_xgb_preds = pipe_xgb.predict(X_train)"
   ]
  },
  {
   "cell_type": "code",
   "execution_count": 53,
   "metadata": {},
   "outputs": [],
   "source": [
    "#predictions test data\n",
    "knn_preds = pipe_knn.predict(X_test)\n",
    "rf_preds = pipe_rf.predict(X_test)\n",
    "svm_preds = pipe_svm.predict(X_test)\n",
    "xgb_preds = pipe_xgb.predict(X_test)"
   ]
  },
  {
   "cell_type": "markdown",
   "metadata": {},
   "source": [
    "## Confusion Matrix and Classification Report - K Nearest Neighbors"
   ]
  },
  {
   "cell_type": "markdown",
   "metadata": {},
   "source": [
    "### Training  Data"
   ]
  },
  {
   "cell_type": "code",
   "execution_count": 54,
   "metadata": {},
   "outputs": [
    {
     "name": "stdout",
     "output_type": "stream",
     "text": [
      "[[44647     0]\n",
      " [    7 10680]]\n",
      "              precision    recall  f1-score   support\n",
      "\n",
      "           0       1.00      1.00      1.00     44647\n",
      "           1       1.00      1.00      1.00     10687\n",
      "\n",
      "    accuracy                           1.00     55334\n",
      "   macro avg       1.00      1.00      1.00     55334\n",
      "weighted avg       1.00      1.00      1.00     55334\n",
      "\n"
     ]
    }
   ],
   "source": [
    "#metrics KNearestneighbors. train and test data done to compare model accuracy.\n",
    "print(confusion_matrix(y_train, train_knn_preds))\n",
    "print(classification_report(y_train, train_knn_preds))"
   ]
  },
  {
   "cell_type": "markdown",
   "metadata": {},
   "source": [
    "### Test Data - K Nearest Neighbors"
   ]
  },
  {
   "cell_type": "code",
   "execution_count": 55,
   "metadata": {},
   "outputs": [
    {
     "name": "stdout",
     "output_type": "stream",
     "text": [
      "[[10669   465]\n",
      " [  530  2170]]\n",
      "              precision    recall  f1-score   support\n",
      "\n",
      "           0       0.95      0.96      0.96     11134\n",
      "           1       0.82      0.80      0.81      2700\n",
      "\n",
      "    accuracy                           0.93     13834\n",
      "   macro avg       0.89      0.88      0.88     13834\n",
      "weighted avg       0.93      0.93      0.93     13834\n",
      "\n"
     ]
    },
    {
     "data": {
      "image/png": "[encoded data removed]",
      "text/plain": [
       "<Figure size 432x288 with 1 Axes>"
      ]
     },
     "metadata": {},
     "output_type": "display_data"
    }
   ],
   "source": [
    "knn_cf = confusion_matrix(y_test,knn_preds)\n",
    "labels = ['True Negative','False Positive','False Negative', 'True Positive']\n",
    "title = 'KNearestneigbors Final Model\\nDelayed=1, Not Delayed =0\\n'\n",
    "make_confusion_matrix(knn_cf, group_names=labels, title=title, cbar=False)\n",
    "\n",
    "print(confusion_matrix(y_test, knn_preds))\n",
    "print(classification_report(y_test, knn_preds))"
   ]
  },
  {
   "cell_type": "markdown",
   "metadata": {},
   "source": [
    "## ROC Curve and AUC - K Nearest Neighbors"
   ]
  },
  {
   "cell_type": "code",
   "execution_count": 56,
   "metadata": {},
   "outputs": [
    {
     "data": {
      "text/plain": [
       "1.0"
      ]
     },
     "execution_count": 56,
     "metadata": {},
     "output_type": "execute_result"
    }
   ],
   "source": [
    "fpr, tpr, thresholds = roc_curve(y_train, train_knn_preds)\n",
    "train_knn_auc = round(auc(fpr, tpr),2)\n",
    "train_knn_auc"
   ]
  },
  {
   "cell_type": "code",
   "execution_count": 57,
   "metadata": {},
   "outputs": [
    {
     "data": {
      "text/plain": [
       "0.88"
      ]
     },
     "execution_count": 57,
     "metadata": {},
     "output_type": "execute_result"
    }
   ],
   "source": [
    "fpr, tpr, thresholds = roc_curve(y_test, knn_preds)\n",
    "knn_auc = round(auc(fpr, tpr),2)\n",
    "knn_auc"
   ]
  },
  {
   "cell_type": "code",
   "execution_count": 76,
   "metadata": {},
   "outputs": [
    {
     "data": {
      "image/png": "[encoded data removed]",
      "text/plain": [
       "<Figure size 432x288 with 1 Axes>"
      ]
     },
     "metadata": {},
     "output_type": "display_data"
    }
   ],
   "source": [
    "plt.title('Receiver Operating Characteristic')\n",
    "plt.plot(fpr, tpr, 'b', label = 'AUC = %0.2f' % knn_auc)\n",
    "plt.legend(loc = 'lower right')\n",
    "plt.plot([0, 1], [0, 1],'r--')\n",
    "plt.xlim([0, 1])\n",
    "plt.ylim([0, 1])\n",
    "plt.ylabel('True Positive Rate')\n",
    "plt.xlabel('False Positive Rate')\n",
    "plt.show()"
   ]
  },
  {
   "cell_type": "markdown",
   "metadata": {},
   "source": [
    "## Confusion Matrix and Classification Report - Random Forest"
   ]
  },
  {
   "cell_type": "markdown",
   "metadata": {},
   "source": [
    "### Training Data "
   ]
  },
  {
   "cell_type": "code",
   "execution_count": 58,
   "metadata": {},
   "outputs": [
    {
     "name": "stdout",
     "output_type": "stream",
     "text": [
      "[[43606  1041]\n",
      " [ 2113  8574]]\n",
      "              precision    recall  f1-score   support\n",
      "\n",
      "           0       0.95      0.98      0.97     44647\n",
      "           1       0.89      0.80      0.84     10687\n",
      "\n",
      "    accuracy                           0.94     55334\n",
      "   macro avg       0.92      0.89      0.90     55334\n",
      "weighted avg       0.94      0.94      0.94     55334\n",
      "\n"
     ]
    }
   ],
   "source": [
    "print(confusion_matrix(y_train, train_rf_preds))\n",
    "print(classification_report(y_train, train_rf_preds))"
   ]
  },
  {
   "cell_type": "markdown",
   "metadata": {},
   "source": [
    "### Test Data"
   ]
  },
  {
   "cell_type": "code",
   "execution_count": 59,
   "metadata": {},
   "outputs": [
    {
     "name": "stdout",
     "output_type": "stream",
     "text": [
      "[[10808   326]\n",
      " [  564  2136]]\n",
      "              precision    recall  f1-score   support\n",
      "\n",
      "           0       0.95      0.97      0.96     11134\n",
      "           1       0.87      0.79      0.83      2700\n",
      "\n",
      "    accuracy                           0.94     13834\n",
      "   macro avg       0.91      0.88      0.89     13834\n",
      "weighted avg       0.93      0.94      0.93     13834\n",
      "\n"
     ]
    },
    {
     "data": {
      "image/png": "[encoded data removed]",
      "text/plain": [
       "<Figure size 432x288 with 1 Axes>"
      ]
     },
     "metadata": {},
     "output_type": "display_data"
    }
   ],
   "source": [
    "rf_cf = confusion_matrix(y_test,rf_preds)\n",
    "labels = ['True Negative','False Positive','False Negative', 'True Positive']\n",
    "title = 'Random Forest Final Model\\nDelayed=1, Not Delayed =0\\n'\n",
    "make_confusion_matrix(rf_cf, group_names=labels, title=title, cbar=False)\n",
    "\n",
    "print(confusion_matrix(y_test, rf_preds))\n",
    "print(classification_report(y_test, rf_preds))"
   ]
  },
  {
   "cell_type": "markdown",
   "metadata": {},
   "source": [
    "## ROC Curve and AUC - Random Forest"
   ]
  },
  {
   "cell_type": "code",
   "execution_count": 60,
   "metadata": {},
   "outputs": [
    {
     "data": {
      "text/plain": [
       "0.89"
      ]
     },
     "execution_count": 60,
     "metadata": {},
     "output_type": "execute_result"
    }
   ],
   "source": [
    "fpr, tpr, thresholds = roc_curve(y_train, train_rf_preds)\n",
    "train_rf_auc = round(auc(fpr, tpr),2)\n",
    "train_rf_auc"
   ]
  },
  {
   "cell_type": "code",
   "execution_count": 61,
   "metadata": {},
   "outputs": [
    {
     "data": {
      "text/plain": [
       "0.88"
      ]
     },
     "execution_count": 61,
     "metadata": {},
     "output_type": "execute_result"
    }
   ],
   "source": [
    "fpr, tpr, thresholds = roc_curve(y_test, rf_preds)\n",
    "rf_auc = round(auc(fpr, tpr),2)\n",
    "rf_auc"
   ]
  },
  {
   "cell_type": "code",
   "execution_count": 70,
   "metadata": {},
   "outputs": [
    {
     "data": {
      "image/png": "[encoded data removed]",
      "text/plain": [
       "<Figure size 432x288 with 1 Axes>"
      ]
     },
     "metadata": {},
     "output_type": "display_data"
    }
   ],
   "source": [
    "plt.title('Receiver Operating Characteristic')\n",
    "plt.plot(fpr, tpr, 'b', label = 'AUC = %0.2f' % rf_auc)\n",
    "plt.legend(loc = 'lower right')\n",
    "plt.plot([0, 1], [0, 1],'r--')\n",
    "plt.xlim([0, 1])\n",
    "plt.ylim([0, 1])\n",
    "plt.ylabel('True Positive Rate')\n",
    "plt.xlabel('False Positive Rate')\n",
    "plt.show()"
   ]
  },
  {
   "cell_type": "markdown",
   "metadata": {},
   "source": [
    "## Confusion Matrix and Classification Report - Support Vector Machines"
   ]
  },
  {
   "cell_type": "markdown",
   "metadata": {},
   "source": [
    "### Training Data "
   ]
  },
  {
   "cell_type": "code",
   "execution_count": 62,
   "metadata": {},
   "outputs": [
    {
     "name": "stdout",
     "output_type": "stream",
     "text": [
      "[[43286  1361]\n",
      " [ 1890  8797]]\n",
      "              precision    recall  f1-score   support\n",
      "\n",
      "           0       0.96      0.97      0.96     44647\n",
      "           1       0.87      0.82      0.84     10687\n",
      "\n",
      "    accuracy                           0.94     55334\n",
      "   macro avg       0.91      0.90      0.90     55334\n",
      "weighted avg       0.94      0.94      0.94     55334\n",
      "\n"
     ]
    }
   ],
   "source": [
    "print(confusion_matrix(y_train, train_svm_preds))\n",
    "print(classification_report(y_train, train_svm_preds))"
   ]
  },
  {
   "cell_type": "markdown",
   "metadata": {},
   "source": [
    "### Test Data"
   ]
  },
  {
   "cell_type": "code",
   "execution_count": 63,
   "metadata": {},
   "outputs": [
    {
     "name": "stdout",
     "output_type": "stream",
     "text": [
      "[[10707   427]\n",
      " [  514  2186]]\n",
      "              precision    recall  f1-score   support\n",
      "\n",
      "           0       0.95      0.96      0.96     11134\n",
      "           1       0.84      0.81      0.82      2700\n",
      "\n",
      "    accuracy                           0.93     13834\n",
      "   macro avg       0.90      0.89      0.89     13834\n",
      "weighted avg       0.93      0.93      0.93     13834\n",
      "\n"
     ]
    },
    {
     "data": {
      "image/png": "[encoded data removed]",
      "text/plain": [
       "<Figure size 432x288 with 1 Axes>"
      ]
     },
     "metadata": {},
     "output_type": "display_data"
    }
   ],
   "source": [
    "svm_cf = confusion_matrix(y_test,svm_preds)\n",
    "labels = ['True Negative','False Positive','False Negative', 'True Positive']\n",
    "title = 'Support Vector Machine Final Model\\nDelayed=1, Not Delayed =0\\n'\n",
    "make_confusion_matrix(svm_cf, group_names=labels, title=title, cbar=False)\n",
    "\n",
    "print(confusion_matrix(y_test, svm_preds))\n",
    "print(classification_report(y_test, svm_preds))"
   ]
  },
  {
   "cell_type": "markdown",
   "metadata": {},
   "source": [
    "## ROC Curve and AUC - Support Vector Machines"
   ]
  },
  {
   "cell_type": "code",
   "execution_count": 64,
   "metadata": {},
   "outputs": [
    {
     "data": {
      "text/plain": [
       "0.9"
      ]
     },
     "execution_count": 64,
     "metadata": {},
     "output_type": "execute_result"
    }
   ],
   "source": [
    "fpr, tpr, thresholds = roc_curve(y_train, train_svm_preds)\n",
    "train_svm_auc = round(auc(fpr, tpr),2)\n",
    "train_svm_auc"
   ]
  },
  {
   "cell_type": "code",
   "execution_count": 65,
   "metadata": {},
   "outputs": [
    {
     "data": {
      "text/plain": [
       "0.89"
      ]
     },
     "execution_count": 65,
     "metadata": {},
     "output_type": "execute_result"
    }
   ],
   "source": [
    "fpr, tpr, thresholds = roc_curve(y_test, svm_preds)\n",
    "svm_auc = round(auc(fpr, tpr),2)\n",
    "svm_auc"
   ]
  },
  {
   "cell_type": "code",
   "execution_count": 74,
   "metadata": {},
   "outputs": [
    {
     "data": {
      "image/png": "[encoded data removed]",
      "text/plain": [
       "<Figure size 432x288 with 1 Axes>"
      ]
     },
     "metadata": {},
     "output_type": "display_data"
    }
   ],
   "source": [
    "plt.title('Receiver Operating Characteristic')\n",
    "plt.plot(fpr, tpr, 'b', label = 'AUC = %0.2f' % svm_auc)\n",
    "plt.legend(loc = 'lower right')\n",
    "plt.plot([0, 1], [0, 1],'r--')\n",
    "plt.xlim([0, 1])\n",
    "plt.ylim([0, 1])\n",
    "plt.ylabel('True Positive Rate')\n",
    "plt.xlabel('False Positive Rate')\n",
    "plt.show()"
   ]
  },
  {
   "cell_type": "markdown",
   "metadata": {},
   "source": [
    "## Confusion Matrix and Classification Report - XGBoost"
   ]
  },
  {
   "cell_type": "markdown",
   "metadata": {},
   "source": [
    "### Training Data "
   ]
  },
  {
   "cell_type": "code",
   "execution_count": 66,
   "metadata": {},
   "outputs": [
    {
     "name": "stdout",
     "output_type": "stream",
     "text": [
      "[[44072   575]\n",
      " [ 1428  9259]]\n",
      "              precision    recall  f1-score   support\n",
      "\n",
      "           0       0.97      0.99      0.98     44647\n",
      "           1       0.94      0.87      0.90     10687\n",
      "\n",
      "    accuracy                           0.96     55334\n",
      "   macro avg       0.96      0.93      0.94     55334\n",
      "weighted avg       0.96      0.96      0.96     55334\n",
      "\n"
     ]
    }
   ],
   "source": [
    "print(confusion_matrix(y_train, train_xgb_preds))\n",
    "print(classification_report(y_train, train_xgb_preds))"
   ]
  },
  {
   "cell_type": "markdown",
   "metadata": {},
   "source": [
    "### Test Data"
   ]
  },
  {
   "cell_type": "code",
   "execution_count": 67,
   "metadata": {},
   "outputs": [
    {
     "name": "stdout",
     "output_type": "stream",
     "text": [
      "[[10806   328]\n",
      " [  540  2160]]\n",
      "              precision    recall  f1-score   support\n",
      "\n",
      "           0       0.95      0.97      0.96     11134\n",
      "           1       0.87      0.80      0.83      2700\n",
      "\n",
      "    accuracy                           0.94     13834\n",
      "   macro avg       0.91      0.89      0.90     13834\n",
      "weighted avg       0.94      0.94      0.94     13834\n",
      "\n"
     ]
    },
    {
     "data": {
      "image/png": "[encoded data removed]",
      "text/plain": [
       "<Figure size 432x288 with 1 Axes>"
      ]
     },
     "metadata": {},
     "output_type": "display_data"
    }
   ],
   "source": [
    "cf = confusion_matrix(y_test,xgb_preds)\n",
    "labels = ['True Negative','False Positive','False Negative', 'True Positive']\n",
    "title = 'XGBoost Final Model\\nDelayed=1, Not Delayed =0\\n'\n",
    "make_confusion_matrix(cf, group_names=labels, title=title, cbar=False)\n",
    "\n",
    "print(confusion_matrix(y_test, xgb_preds))\n",
    "print(classification_report(y_test, xgb_preds))"
   ]
  },
  {
   "cell_type": "markdown",
   "metadata": {},
   "source": [
    "## ROC Curve and AUC - XGBoost"
   ]
  },
  {
   "cell_type": "code",
   "execution_count": 68,
   "metadata": {},
   "outputs": [
    {
     "data": {
      "text/plain": [
       "0.93"
      ]
     },
     "execution_count": 68,
     "metadata": {},
     "output_type": "execute_result"
    }
   ],
   "source": [
    "fpr, tpr, thresholds = roc_curve(y_train, train_xgb_preds)\n",
    "train_xgb_auc = round(auc(fpr, tpr),2)\n",
    "train_xgb_auc"
   ]
  },
  {
   "cell_type": "code",
   "execution_count": 69,
   "metadata": {},
   "outputs": [
    {
     "data": {
      "text/plain": [
       "0.89"
      ]
     },
     "execution_count": 69,
     "metadata": {},
     "output_type": "execute_result"
    }
   ],
   "source": [
    "fpr, tpr, thresholds = roc_curve(y_test, xgb_preds)\n",
    "xgb_auc = round(auc(fpr, tpr),2)\n",
    "xgb_auc"
   ]
  },
  {
   "cell_type": "code",
   "execution_count": 75,
   "metadata": {},
   "outputs": [
    {
     "data": {
      "image/png": "[encoded data removed]",
      "text/plain": [
       "<Figure size 432x288 with 1 Axes>"
      ]
     },
     "metadata": {},
     "output_type": "display_data"
    }
   ],
   "source": [
    "plt.title('Receiver Operating Characteristic')\n",
    "plt.plot(fpr, tpr, 'b', label = 'AUC = %0.2f' % xgb_auc)\n",
    "plt.legend(loc = 'lower right')\n",
    "plt.plot([0, 1], [0, 1],'r--')\n",
    "plt.xlim([0, 1])\n",
    "plt.ylim([0, 1])\n",
    "plt.ylabel('True Positive Rate')\n",
    "plt.xlabel('False Positive Rate')\n",
    "plt.show()"
   ]
  },
  {
   "cell_type": "markdown",
   "metadata": {},
   "source": [
    "# Comparing Models"
   ]
  },
  {
   "cell_type": "code",
   "execution_count": 49,
   "metadata": {},
   "outputs": [
    {
     "name": "stdout",
     "output_type": "stream",
     "text": [
      "K Nearest Neighbors pipeline test accuracy: 1.000\n",
      "Random Forest pipeline test accuracy: 0.943\n",
      "XGBoost pipeline test accuracy: 0.964\n",
      "Support Vector Machine pipeline test accuracy: 0.941\n"
     ]
    }
   ],
   "source": [
    "#compare accuracies - train data\n",
    "for index, val in enumerate(pipelines):\n",
    "    print('%s pipeline test accuracy: %.3f' % (pipeline_names[index], val.score(X_train, y_train)))"
   ]
  },
  {
   "cell_type": "code",
   "execution_count": 50,
   "metadata": {},
   "outputs": [
    {
     "name": "stdout",
     "output_type": "stream",
     "text": [
      "K Nearest Neighbors pipeline test accuracy: 0.928\n",
      "Random Forest pipeline test accuracy: 0.936\n",
      "XGBoost pipeline test accuracy: 0.937\n",
      "Support Vector Machine pipeline test accuracy: 0.932\n"
     ]
    }
   ],
   "source": [
    "#compare accuracies - test data\n",
    "for index, val in enumerate(pipelines):\n",
    "    print('%s pipeline test accuracy: %.3f' % (pipeline_names[index], val.score(X_test, y_test)))"
   ]
  },
  {
   "cell_type": "code",
   "execution_count": 51,
   "metadata": {},
   "outputs": [
    {
     "name": "stdout",
     "output_type": "stream",
     "text": [
      "Classifier with best accuracy: XGBoost\n"
     ]
    }
   ],
   "source": [
    "best_acc = 0.0\n",
    "best_clf = 0\n",
    "best_pipe = ''\n",
    "for index, val in enumerate(pipelines):\n",
    "    if val.score(X_test, y_test) > best_acc:\n",
    "        best_acc = val.score(X_test, y_test)\n",
    "        best_pipe = val\n",
    "        best_clf = index\n",
    "print('Classifier with best accuracy: %s' % pipeline_names[best_clf])"
   ]
  },
  {
   "cell_type": "markdown",
   "metadata": {},
   "source": [
    "The classifier with the highest accuracy is **XGBoost** at **93.7%**. Random Forest and Support Vector Machines were not far behind with accuracies at 93.6% and 93.2% respectively. "
   ]
  },
  {
   "cell_type": "code",
   "execution_count": null,
   "metadata": {},
   "outputs": [],
   "source": [
    "#from xgboost import plot_importance\n",
    "\n",
    "#plot_importance(boost_2)\n",
    "#plt.show()"
   ]
  },
  {
   "cell_type": "markdown",
   "metadata": {},
   "source": [
    "<img src= 'XGB Feature Importance.png' height=75% width=75%>"
   ]
  },
  {
   "cell_type": "code",
   "execution_count": null,
   "metadata": {},
   "outputs": [],
   "source": [
    "#sorted_idx = np.argsort(boost_2.feature_importances_)[::-1]\n",
    "#for index in sorted_idx:\n",
    "#    print([X_train.columns[index], boost_2.feature_importances_[index]]) "
   ]
  },
  {
   "cell_type": "code",
   "execution_count": null,
   "metadata": {},
   "outputs": [],
   "source": [
    "['DISTANCE', 0.23953465]\n",
    "['DEST', 0.19549185]\n",
    "['ORIGIN', 0.18115716]\n",
    "['DEP_DELAY', 0.09753817]\n",
    "['TIME_OF_DAY_ARR', 0.07925626]\n",
    "['FL_DATE', 0.06616807]\n",
    "['FL_DATE_DAY', 0.050690766]\n",
    "['AIRLINE', 0.043315675]\n",
    "['TIME_OF_DAY_DEP', 0.039368443]\n",
    "['DELAY_LEVEL', 0.0074789654]"
   ]
  },
  {
   "cell_type": "markdown",
   "metadata": {},
   "source": [
    "The top 5 most important features in our XGBoost Model are:\n",
    "\n",
    "1. Distance\n",
    "2. Destination\n",
    "3. Origin\n",
    "4. Departure Delay\n",
    "5. Arrival Time"
   ]
  },
  {
   "cell_type": "markdown",
   "metadata": {},
   "source": [
    "## Future Work"
   ]
  },
  {
   "cell_type": "markdown",
   "metadata": {},
   "source": [
    "1. Determine which days are best for holiday travel\n",
    "2. Study how time of departure impacts delays\n",
    "3. Find which airports are best for avoiding delays\n",
    "4. See how distance impacts delays"
   ]
  },
  {
   "cell_type": "markdown",
   "metadata": {},
   "source": [
    "## Appendix"
   ]
  },
  {
   "cell_type": "markdown",
   "metadata": {},
   "source": [
    "<img src= 'Worst-Christmas-Travel-Dates.png' height=100% width=100%>"
   ]
  },
  {
   "cell_type": "markdown",
   "metadata": {},
   "source": [
    "https://www.smartertravel.com/best-and-worst-days-for-holiday-travel/"
   ]
  },
  {
   "cell_type": "markdown",
   "metadata": {},
   "source": [
    "<img src= 'Holiday Travel Forecast.png' height=100% width=100%>"
   ]
  },
  {
   "cell_type": "markdown",
   "metadata": {},
   "source": [
    "<img src= 'worst days.jpg' height=100% width=100%>"
   ]
  },
  {
   "cell_type": "markdown",
   "metadata": {},
   "source": [
    "https://www.cntraveler.com/story/these-are-the-busiest-days-for-holiday-travel-this-year?utm_source=nl&utm_brand=cnt&utm_mailing=CNT_Daily_PM_110519&utm_campaign=aud-dev&utm_medium=email&bxid=5bda451f3f92a40f7d4f609d&cndid=10799541&hasha=ab1a9602f106357125fad9b3d8b1ffe6&hashb=1609645c4a77e5036c1e6a36d81510b0cd033314&hashc=0c75784d8536eb549117cfdf19ffa9aa9b961a504c0e1c277ccf0be095c40788&esrc=ETL_BATCH&utm_term=CNT_Daily"
   ]
  }
 ],
 "metadata": {
  "kernelspec": {
   "display_name": "Python 3",
   "language": "python",
   "name": "python3"
  },
  "language_info": {
   "codemirror_mode": {
    "name": "ipython",
    "version": 3
   },
   "file_extension": ".py",
   "mimetype": "text/x-python",
   "name": "python",
   "nbconvert_exporter": "python",
   "pygments_lexer": "ipython3",
   "version": "3.6.6"
  }
 },
 "nbformat": 4,
 "nbformat_minor": 2
}
